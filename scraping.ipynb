{
 "cells": [
  {
   "cell_type": "code",
   "metadata": {
    "ExecuteTime": {
     "end_time": "2025-03-24T01:39:26.052422Z",
     "start_time": "2025-03-24T01:39:26.047878Z"
    }
   },
   "source": [
    "#El módulo sys proporciona variables y métodos utilizados para interactuar con el entorno de tiempo de ejecución de Python.\n",
    "import webbrowser, sys"
   ],
   "outputs": [],
   "execution_count": 2
  },
  {
   "cell_type": "code",
   "metadata": {
    "ExecuteTime": {
     "end_time": "2025-03-24T01:39:29.323852Z",
     "start_time": "2025-03-24T01:39:29.275881Z"
    }
   },
   "source": [
    "if len(sys.argv) > 1:\n",
    "# Get address from command line.\n",
    "    address = ' '.join(sys.argv[1:])\n",
    "else:\n",
    "# Get address from clipboard.\n",
    "    address = pyperclip.paste()\n",
    "webbrowser.open('https://www.google.com/maps/place/' + address)"
   ],
   "outputs": [
    {
     "data": {
      "text/plain": [
       "True"
      ]
     },
     "execution_count": 3,
     "metadata": {},
     "output_type": "execute_result"
    }
   ],
   "execution_count": 3
  },
  {
   "cell_type": "code",
   "execution_count": null,
   "metadata": {},
   "outputs": [],
   "source": []
  }
 ],
 "metadata": {
  "kernelspec": {
   "display_name": ".venv",
   "language": "python",
   "name": "python3"
  },
  "language_info": {
   "codemirror_mode": {
    "name": "ipython",
    "version": 3
   },
   "file_extension": ".py",
   "mimetype": "text/x-python",
   "name": "python",
   "nbconvert_exporter": "python",
   "pygments_lexer": "ipython3",
   "version": "3.12.7"
  }
 },
 "nbformat": 4,
 "nbformat_minor": 2
}
