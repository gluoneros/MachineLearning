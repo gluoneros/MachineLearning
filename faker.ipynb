{
 "cells": [
  {
   "cell_type": "markdown",
   "metadata": {},
   "source": [
    "# Libreria Faker\n",
    "para generara nombres"
   ]
  },
  {
   "cell_type": "code",
   "execution_count": 2,
   "metadata": {},
   "outputs": [],
   "source": [
    "from faker import Faker\n",
    "\n"
   ]
  },
  {
   "cell_type": "code",
   "execution_count": 8,
   "metadata": {},
   "outputs": [
    {
     "name": "stdout",
     "output_type": "stream",
     "text": [
      "['ramiro90@example.net', 'propero@example.org', 'canalsdolores@example.org', 'telloelodia@example.net', 'jose-carlos62@example.com']\n"
     ]
    }
   ],
   "source": [
    "fake = Faker('es_Es')\n",
    "\n",
    "# Generar 5 emails únicos\n",
    "emails = [fake.unique.email() for _ in range(5)]\n",
    "print(emails)\n",
    "# Ej: ['user1@mail.com', 'user2@mail.com', ...]"
   ]
  },
  {
   "cell_type": "code",
   "execution_count": 9,
   "metadata": {},
   "outputs": [
    {
     "name": "stdout",
     "output_type": "stream",
     "text": [
      "Joel Silvio Sebastián Casanovas\n",
      "angelita84@example.com\n",
      "Alameda Trinidad Mayo 57\n",
      "Guadalajara, 31236\n",
      "+34847053405\n",
      "1941-05-29\n",
      "['vilma45@example.org', 'gfrias@example.org', 'lozanocleto@example.com', 'arroyoamparo@example.org', 'molinsmanola@example.org']\n"
     ]
    }
   ],
   "source": [
    "# Libreria Faker para generar datos falsos\n",
    "\n",
    "nombre = fake.name()\n",
    "print(nombre)\n",
    "\n",
    "email = fake.email()\n",
    "print(email)\n",
    "\n",
    "direccion = fake.address()\n",
    "print(direccion)\n",
    "\n",
    "telefono = fake.phone_number()\n",
    "print(telefono)\n",
    "\n",
    "fecha_nacimiento = fake.date_of_birth(minimum_age=18, maximum_age=90)\n",
    "print(fecha_nacimiento)\n",
    "\n",
    "# Generar 5 emails únicos\n",
    "emails = [fake.unique.email() for _ in range(5)]\n",
    "print(emails)\n",
    "# Ej: ['user1@mail.com', 'user2@mail.com', ...]\n"
   ]
  }
 ],
 "metadata": {
  "kernelspec": {
   "display_name": ".venv",
   "language": "python",
   "name": "python3"
  },
  "language_info": {
   "codemirror_mode": {
    "name": "ipython",
    "version": 3
   },
   "file_extension": ".py",
   "mimetype": "text/x-python",
   "name": "python",
   "nbconvert_exporter": "python",
   "pygments_lexer": "ipython3",
   "version": "3.10.18"
  }
 },
 "nbformat": 4,
 "nbformat_minor": 2
}
