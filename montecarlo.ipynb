{
 "cells": [
  {
   "cell_type": "markdown",
   "metadata": {
    "id": "LMF_KQF6J9Zs"
   },
   "source": [
    "# Ejemplos del m'etodo Montecarlo"
   ]
  },
  {
   "cell_type": "code",
   "metadata": {
    "id": "S1EUJsgUL-lu",
    "ExecuteTime": {
     "end_time": "2025-04-24T17:19:03.094087Z",
     "start_time": "2025-04-24T17:19:03.092547Z"
    }
   },
   "source": [
    "import random\n",
    "import collections\n",
    "import math\n",
    "from types import SimpleNamespace\n",
    "from typing import List, Tuple, Dict, Any, Optional\n",
    "from itertools import product"
   ],
   "outputs": [],
   "execution_count": 1
  },
  {
   "cell_type": "markdown",
   "metadata": {
    "id": "eUx8XLq7JqpQ"
   },
   "source": [
    "##Calculo de pares en una cantidad x de manos  "
   ]
  },
  {
   "cell_type": "code",
   "metadata": {
    "id": "hqN_NX76MHfT",
    "ExecuteTime": {
     "end_time": "2025-04-24T17:21:51.657802Z",
     "start_time": "2025-04-24T17:21:51.656253Z"
    }
   },
   "source": [
    "#definicion de una baraja\n",
    "PALOS = ['Espada', 'Trebol', 'Rombo', 'Corazon']\n",
    "VALORES = ['As', '2', '3', '4', '5', '6', '7', '8', '9', '10', 'Jota', 'Reina', 'Rey']\n"
   ],
   "outputs": [],
   "execution_count": 2
  },
  {
   "cell_type": "code",
   "metadata": {
    "id": "w-OHi1ETMa8b",
    "ExecuteTime": {
     "end_time": "2025-04-24T17:22:12.575541Z",
     "start_time": "2025-04-24T17:22:12.573796Z"
    }
   },
   "source": [
    "#crea una baraja\n",
    "def crear_baraja():\n",
    "    baraja = []\n",
    "    for palo in PALOS:\n",
    "        for valor in VALORES:\n",
    "            baraja.append((palo, valor))\n",
    "    return baraja"
   ],
   "outputs": [],
   "execution_count": 4
  },
  {
   "cell_type": "code",
   "metadata": {
    "id": "Tr3FBLn4MgeC",
    "ExecuteTime": {
     "end_time": "2025-04-24T17:22:16.417631Z",
     "start_time": "2025-04-24T17:22:16.416050Z"
    }
   },
   "source": [
    "#obtener mano\n",
    "def obtener_mano(barajas, tamano_mano):\n",
    "    mano = random.sample(barajas, tamano_mano)\n",
    "    return mano\n"
   ],
   "outputs": [],
   "execution_count": 5
  },
  {
   "cell_type": "code",
   "metadata": {
    "colab": {
     "base_uri": "https://localhost:8080/"
    },
    "id": "6wqDtfEgM2Vj",
    "outputId": "1bec3d93-3ddd-4f14-8624-f2c398888309",
    "ExecuteTime": {
     "end_time": "2025-04-24T17:22:55.229704Z",
     "start_time": "2025-04-24T17:22:55.228089Z"
    }
   },
   "source": [
    "#resulatado mano\n",
    "mano = obtener_mano(crear_baraja(), 5)\n",
    "print(mano)"
   ],
   "outputs": [
    {
     "name": "stdout",
     "output_type": "stream",
     "text": [
      "[('Trebol', 'Rey'), ('Rombo', 'As'), ('Corazon', 'Reina'), ('Corazon', '7'), ('Corazon', '2')]\n"
     ]
    }
   ],
   "execution_count": 6
  },
  {
   "cell_type": "code",
   "metadata": {
    "id": "7diHh97zNGGB",
    "ExecuteTime": {
     "end_time": "2025-04-24T17:22:58.870321Z",
     "start_time": "2025-04-24T17:22:58.868367Z"
    }
   },
   "source": [
    "# Definicion de un juego con varias manos y el porcentaje de pares que se puede obtener\n",
    "def valor_mano(tamano_mano, intentos):\n",
    "    barajas = crear_baraja()\n",
    "    manos = []\n",
    "    for _ in range(intentos):\n",
    "        mano = obtener_mano(barajas, tamano_mano)\n",
    "        manos.append(mano)\n",
    "\n",
    "    pares = 0\n",
    "    for mano in manos:\n",
    "        valores = []\n",
    "        for carta in mano:\n",
    "            valores.append(carta[1])\n",
    "\n",
    "        counter = dict(collections.Counter(valores))\n",
    "        for val in counter.values():\n",
    "            if val == 2:\n",
    "                pares += 1\n",
    "                break\n",
    "\n",
    "\n",
    "    porcentaje = pares / intentos * 100\n",
    "    print(f\"El porcentaje de manos que tienen un par es: {porcentaje}%\")\n",
    "    return manos\n"
   ],
   "outputs": [],
   "execution_count": 8
  },
  {
   "cell_type": "code",
   "metadata": {
    "colab": {
     "base_uri": "https://localhost:8080/"
    },
    "id": "9yRk6z-0NeZ6",
    "outputId": "b21be608-f5e0-45e8-fd62-70e5a547ef04",
    "ExecuteTime": {
     "end_time": "2025-04-24T17:23:14.330809Z",
     "start_time": "2025-04-24T17:23:02.673486Z"
    }
   },
   "source": [
    "#implementacion\n",
    "tamano_mano = int(input(\"Ingrese el tamaño de la mano: \"))\n",
    "intentos = int(input(\"Ingrese el número de intentos: \"))\n",
    "manos = valor_mano(tamano_mano, intentos)\n",
    "print(manos)"
   ],
   "outputs": [
    {
     "name": "stdout",
     "output_type": "stream",
     "text": [
      "El porcentaje de manos que tienen un par es: 62.5%\n",
      "[[('Trebol', '2'), ('Corazon', '2'), ('Corazon', '5'), ('Rombo', '3'), ('Espada', '3'), ('Trebol', '4')], [('Rombo', 'Jota'), ('Espada', '5'), ('Trebol', '9'), ('Rombo', '9'), ('Espada', 'Reina'), ('Trebol', '7')], [('Rombo', 'As'), ('Rombo', '2'), ('Corazon', '10'), ('Espada', '4'), ('Corazon', '4'), ('Corazon', 'Rey')], [('Corazon', 'Jota'), ('Espada', '4'), ('Rombo', '10'), ('Rombo', '8'), ('Espada', 'Reina'), ('Corazon', 'Reina')], [('Rombo', '7'), ('Espada', 'As'), ('Corazon', '8'), ('Rombo', 'As'), ('Rombo', 'Reina'), ('Corazon', 'As')], [('Espada', '8'), ('Trebol', '4'), ('Corazon', 'As'), ('Corazon', '9'), ('Espada', '7'), ('Rombo', 'Rey')], [('Espada', 'Rey'), ('Corazon', '5'), ('Corazon', '2'), ('Trebol', '10'), ('Espada', '5'), ('Trebol', 'Jota')], [('Trebol', '10'), ('Corazon', 'Rey'), ('Trebol', '4'), ('Rombo', '8'), ('Rombo', '9'), ('Rombo', '6')]]\n"
     ]
    }
   ],
   "execution_count": 9
  },
  {
   "cell_type": "markdown",
   "metadata": {
    "id": "l6Mo_sOVwCYY"
   },
   "source": "## CalculoPi"
  },
  {
   "cell_type": "code",
   "metadata": {
    "id": "jcSPIs6HwBzU",
    "ExecuteTime": {
     "end_time": "2025-04-24T17:23:30.246517Z",
     "start_time": "2025-04-24T17:23:30.244714Z"
    }
   },
   "source": [
    "#Se intenta calcular pi mediante una funcion que a partir de un numero de agujas las pone al azar en un rectangulo de [-1, 1] y\n",
    "#cuenta cuantas quedan dentro de un circulo\n",
    "def aventar_agujas(numero_agujas):\n",
    "  adentro_circulo = 0\n",
    "  for _ in range(numero_agujas):\n",
    "    x = random.random()*random.choice([-1, 1])\n",
    "    y = random.random()*random.choice([-1, 1])\n",
    "    distancia_desde_centro = math.sqrt(x**2 + y**2)\n",
    "    if distancia_desde_centro <= 1:\n",
    "      adentro_circulo += 1\n",
    "  return (4 * adentro_circulo) / numero_agujas\n"
   ],
   "outputs": [],
   "execution_count": 10
  },
  {
   "cell_type": "code",
   "metadata": {
    "id": "4zLVZTOw85Xn",
    "ExecuteTime": {
     "end_time": "2025-04-24T17:23:33.239301Z",
     "start_time": "2025-04-24T17:23:33.237371Z"
    }
   },
   "source": [
    "#calculo de\n",
    "def esimacion(numero_agujas, numero_intentos):\n",
    "  estimaciones = []\n",
    "  for _ in range(numero_intentos):\n",
    "    estimacion_pi = aventar_agujas(numero_agujas)\n",
    "    estimaciones.append(estimacion_pi)\n",
    "  media_estimaciones = sum(estimaciones) / len(estimaciones)\n",
    "  sigma = math.sqrt(sum([(estimacion - media_estimaciones)**2 for estimacion in estimaciones]) / len(estimaciones))\n",
    "  print(f\"Estimacion = {round(media_estimaciones, 5)}, sigma = {round(sigma, 5)}, agujas = {numero_agujas}\")\n",
    "\n",
    "  return (media_estimaciones, sigma)\n"
   ],
   "outputs": [],
   "execution_count": 11
  },
  {
   "cell_type": "code",
   "metadata": {
    "id": "hvW_46q08Vsp",
    "ExecuteTime": {
     "end_time": "2025-04-24T17:23:35.272928Z",
     "start_time": "2025-04-24T17:23:35.271232Z"
    }
   },
   "source": [
    "\n",
    "def estimar_pi(precision, numero_intentos):\n",
    "  numero_agujas = 1000\n",
    "  sigma = precision\n",
    "\n",
    "  while sigma >= precision / 1.96:\n",
    "    media, sigma = esimacion(numero_agujas, numero_intentos)\n",
    "    numero_agujas *= 2\n",
    "  return media\n"
   ],
   "outputs": [],
   "execution_count": 12
  },
  {
   "cell_type": "code",
   "metadata": {
    "colab": {
     "base_uri": "https://localhost:8080/"
    },
    "id": "R7dJCsSq_PTa",
    "outputId": "bba2cf9e-21d2-41d7-ae0a-ffdebbac8698",
    "ExecuteTime": {
     "end_time": "2025-04-24T17:25:17.299892Z",
     "start_time": "2025-04-24T17:23:38.152860Z"
    }
   },
   "source": [
    "estimar_pi(0.01, 1000)"
   ],
   "outputs": [
    {
     "name": "stdout",
     "output_type": "stream",
     "text": [
      "Estimacion = 3.13944, sigma = 0.05133, agujas = 1000\n",
      "Estimacion = 3.14369, sigma = 0.03594, agujas = 2000\n",
      "Estimacion = 3.14147, sigma = 0.02642, agujas = 4000\n",
      "Estimacion = 3.14147, sigma = 0.01813, agujas = 8000\n",
      "Estimacion = 3.14149, sigma = 0.01265, agujas = 16000\n",
      "Estimacion = 3.14126, sigma = 0.00892, agujas = 32000\n",
      "Estimacion = 3.14142, sigma = 0.00634, agujas = 64000\n",
      "Estimacion = 3.14149, sigma = 0.00461, agujas = 128000\n"
     ]
    },
    {
     "data": {
      "text/plain": [
       "3.1414901562499997"
      ]
     },
     "execution_count": 13,
     "metadata": {},
     "output_type": "execute_result"
    }
   ],
   "execution_count": 13
  },
  {
   "cell_type": "code",
   "metadata": {
    "ExecuteTime": {
     "end_time": "2025-04-24T17:25:30.626269Z",
     "start_time": "2025-04-24T17:25:30.624477Z"
    }
   },
   "source": [
    "def crear_baraja():\n",
    "    baraja = []\n",
    "    for palo in PALOS:\n",
    "        for valor in VALORES:\n",
    "            baraja.append((palo, valor))\n",
    "    return baraja"
   ],
   "outputs": [],
   "execution_count": 14
  }
 ],
 "metadata": {
  "colab": {
   "provenance": []
  },
  "kernelspec": {
   "display_name": ".venv",
   "language": "python",
   "name": "python3"
  },
  "language_info": {
   "codemirror_mode": {
    "name": "ipython",
    "version": 3
   },
   "file_extension": ".py",
   "mimetype": "text/x-python",
   "name": "python",
   "nbconvert_exporter": "python",
   "pygments_lexer": "ipython3",
   "version": "3.13.2"
  }
 },
 "nbformat": 4,
 "nbformat_minor": 0
}
