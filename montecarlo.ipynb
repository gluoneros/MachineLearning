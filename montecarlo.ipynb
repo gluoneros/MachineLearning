{
 "cells": [
  {
   "cell_type": "markdown",
   "metadata": {
    "id": "LMF_KQF6J9Zs"
   },
   "source": [
    "# Ejemplos del m'etodo Montecarlo"
   ]
  },
  {
   "cell_type": "code",
   "metadata": {
    "id": "S1EUJsgUL-lu",
    "ExecuteTime": {
     "end_time": "2025-01-29T22:10:00.463470Z",
     "start_time": "2025-01-29T22:10:00.461438Z"
    }
   },
   "source": [
    "import random\n",
    "import collections\n",
    "import math\n",
    "from types import SimpleNamespace"
   ],
   "outputs": [],
   "execution_count": 5
  },
  {
   "cell_type": "markdown",
   "metadata": {
    "id": "eUx8XLq7JqpQ"
   },
   "source": [
    "##Calculo de pares en una cantidad x de manos  "
   ]
  },
  {
   "cell_type": "code",
   "metadata": {
    "id": "hqN_NX76MHfT",
    "ExecuteTime": {
     "end_time": "2025-01-29T22:09:56.821382Z",
     "start_time": "2025-01-29T22:09:56.819091Z"
    }
   },
   "source": [
    "#definicion de una baraja\n",
    "PALOS = ['Espada', 'Trebol', 'Rombo', 'Corazon']\n",
    "VALORES = ['As', '2', '3', '4', '5', '6', '7', '8', '9', '10', 'Jota', 'Reina', 'Rey']"
   ],
   "outputs": [],
   "execution_count": 4
  },
  {
   "cell_type": "code",
   "metadata": {
    "id": "w-OHi1ETMa8b",
    "ExecuteTime": {
     "end_time": "2025-01-29T22:05:20.654800Z",
     "start_time": "2025-01-29T22:05:20.652598Z"
    }
   },
   "source": [
    "#crea una baraja\n",
    "def crear_baraja():\n",
    "    baraja = []\n",
    "    for palo in PALOS:\n",
    "        for valor in VALORES:\n",
    "            baraja.append((palo, valor))\n",
    "    return baraja"
   ],
   "outputs": [],
   "execution_count": 3
  },
  {
   "cell_type": "code",
   "execution_count": 5,
   "metadata": {
    "id": "Tr3FBLn4MgeC"
   },
   "outputs": [],
   "source": [
    "#obtener mano\n",
    "def obtener_mano(barajas, tamano_mano):\n",
    "    mano = random.sample(barajas, tamano_mano)\n",
    "    return mano\n"
   ]
  },
  {
   "cell_type": "code",
   "execution_count": 6,
   "metadata": {
    "colab": {
     "base_uri": "https://localhost:8080/"
    },
    "id": "6wqDtfEgM2Vj",
    "outputId": "1bec3d93-3ddd-4f14-8624-f2c398888309"
   },
   "outputs": [
    {
     "name": "stdout",
     "output_type": "stream",
     "text": [
      "[('Trebol', 'As'), ('Rombo', '8'), ('Trebol', '2'), ('Trebol', 'Rey'), ('Trebol', '6')]\n"
     ]
    }
   ],
   "source": [
    "#resulatado mano\n",
    "mano = obtener_mano(crear_baraja(), 5)\n",
    "print(mano)"
   ]
  },
  {
   "cell_type": "code",
   "execution_count": 7,
   "metadata": {
    "id": "7diHh97zNGGB"
   },
   "outputs": [],
   "source": [
    "# Definicion de un juego con varias manos y el porcentaje de pares que se puede obtener\n",
    "def valor_mano(tamano_mano, intentos):\n",
    "    barajas = crear_baraja()\n",
    "    manos = []\n",
    "    for _ in range(intentos):\n",
    "        mano = obtener_mano(barajas, tamano_mano)\n",
    "        manos.append(mano)\n",
    "\n",
    "    pares = 0\n",
    "    for mano in manos:\n",
    "        valores = []\n",
    "        for carta in mano:\n",
    "            valores.append(carta[1])\n",
    "\n",
    "        counter = dict(collections.Counter(valores))\n",
    "        for val in counter.values():\n",
    "            if val == 2:\n",
    "                pares += 1\n",
    "                break\n",
    "\n",
    "\n",
    "    porcentaje = pares / intentos * 100\n",
    "    print(f\"El porcentaje de manos que tienen un par es: {porcentaje}%\")\n",
    "    return manos\n"
   ]
  },
  {
   "cell_type": "code",
   "execution_count": 8,
   "metadata": {
    "colab": {
     "base_uri": "https://localhost:8080/"
    },
    "id": "9yRk6z-0NeZ6",
    "outputId": "b21be608-f5e0-45e8-fd62-70e5a547ef04"
   },
   "outputs": [
    {
     "name": "stdout",
     "output_type": "stream",
     "text": [
      "El porcentaje de manos que tienen un par es: 60.0%\n",
      "[[('Trebol', '3'), ('Espada', '10'), ('Rombo', 'As'), ('Trebol', '7'), ('Espada', 'Rey')], [('Corazon', '3'), ('Corazon', 'Rey'), ('Espada', '5'), ('Espada', '10'), ('Trebol', '3')], [('Corazon', '6'), ('Trebol', '4'), ('Corazon', '10'), ('Trebol', 'As'), ('Trebol', '9')], [('Corazon', '9'), ('Trebol', '10'), ('Corazon', '8'), ('Rombo', '7'), ('Corazon', '7')], [('Espada', 'Reina'), ('Espada', '2'), ('Trebol', 'Rey'), ('Corazon', '8'), ('Rombo', 'Rey')]]\n"
     ]
    }
   ],
   "source": [
    "#implementacion\n",
    "tamano_mano = int(input(\"Ingrese el tamaño de la mano: \"))\n",
    "intentos = int(input(\"Ingrese el número de intentos: \"))\n",
    "manos = valor_mano(tamano_mano, intentos)\n",
    "print(manos)"
   ]
  },
  {
   "cell_type": "markdown",
   "metadata": {
    "id": "l6Mo_sOVwCYY"
   },
   "source": [
    "##CalculoPi"
   ]
  },
  {
   "cell_type": "code",
   "execution_count": 9,
   "metadata": {
    "id": "jcSPIs6HwBzU"
   },
   "outputs": [],
   "source": [
    "#Se intenta calcular pi mediante una funcion que a partir de un numero de agujas las pone al azar en un rectangulo de [-1, 1] y\n",
    "#cuenta cuantas quedan dentro de un circulo\n",
    "def aventar_agujas(numero_agujas):\n",
    "  adentro_circulo = 0\n",
    "  for _ in range(numero_agujas):\n",
    "    x = random.random()*random.choice([-1, 1])\n",
    "    y = random.random()*random.choice([-1, 1])\n",
    "    distancia_desde_centro = math.sqrt(x**2 + y**2)\n",
    "    if distancia_desde_centro <= 1:\n",
    "      adentro_circulo += 1\n",
    "  return (4 * adentro_circulo) / numero_agujas\n"
   ]
  },
  {
   "cell_type": "code",
   "execution_count": 10,
   "metadata": {
    "id": "4zLVZTOw85Xn"
   },
   "outputs": [],
   "source": [
    "#calculo de\n",
    "def esimacion(numero_agujas, numero_intentos):\n",
    "  estimaciones = []\n",
    "  for _ in range(numero_intentos):\n",
    "    estimacion_pi = aventar_agujas(numero_agujas)\n",
    "    estimaciones.append(estimacion_pi)\n",
    "  media_estimaciones = sum(estimaciones) / len(estimaciones)\n",
    "  sigma = math.sqrt(sum([(estimacion - media_estimaciones)**2 for estimacion in estimaciones]) / len(estimaciones))\n",
    "  print(f\"Estimacion = {round(media_estimaciones, 5)}, sigma = {round(sigma, 5)}, agujas = {numero_agujas}\")\n",
    "\n",
    "  return (media_estimaciones, sigma)\n"
   ]
  },
  {
   "cell_type": "code",
   "execution_count": 11,
   "metadata": {
    "id": "hvW_46q08Vsp"
   },
   "outputs": [],
   "source": [
    "\n",
    "def estimar_pi(precision, numero_intentos):\n",
    "  numero_agujas = 1000\n",
    "  sigma = precision\n",
    "\n",
    "  while sigma >= precision / 1.96:\n",
    "    media, sigma = esimacion(numero_agujas, numero_intentos)\n",
    "    numero_agujas *= 2\n",
    "  return media\n"
   ]
  },
  {
   "cell_type": "code",
   "execution_count": 12,
   "metadata": {
    "colab": {
     "base_uri": "https://localhost:8080/"
    },
    "id": "R7dJCsSq_PTa",
    "outputId": "bba2cf9e-21d2-41d7-ae0a-ffdebbac8698"
   },
   "outputs": [
    {
     "name": "stdout",
     "output_type": "stream",
     "text": [
      "Estimacion = 3.14324, sigma = 0.05341, agujas = 1000\n",
      "Estimacion = 3.13994, sigma = 0.03558, agujas = 2000\n",
      "Estimacion = 3.14215, sigma = 0.02563, agujas = 4000\n",
      "Estimacion = 3.14078, sigma = 0.01841, agujas = 8000\n",
      "Estimacion = 3.14191, sigma = 0.01246, agujas = 16000\n",
      "Estimacion = 3.14184, sigma = 0.00932, agujas = 32000\n",
      "Estimacion = 3.14147, sigma = 0.00644, agujas = 64000\n",
      "Estimacion = 3.14161, sigma = 0.00459, agujas = 128000\n"
     ]
    },
    {
     "data": {
      "text/plain": [
       "3.14160828125"
      ]
     },
     "execution_count": 12,
     "metadata": {},
     "output_type": "execute_result"
    }
   ],
   "source": [
    "estimar_pi(0.01, 1000)"
   ]
  }
 ],
 "metadata": {
  "colab": {
   "provenance": []
  },
  "kernelspec": {
   "display_name": ".venv",
   "language": "python",
   "name": "python3"
  },
  "language_info": {
   "codemirror_mode": {
    "name": "ipython",
    "version": 3
   },
   "file_extension": ".py",
   "mimetype": "text/x-python",
   "name": "python",
   "nbconvert_exporter": "python",
   "pygments_lexer": "ipython3",
   "version": "3.12.7"
  }
 },
 "nbformat": 4,
 "nbformat_minor": 0
}
