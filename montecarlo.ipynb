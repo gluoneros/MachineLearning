{
 "cells": [
  {
   "cell_type": "markdown",
   "metadata": {
    "id": "LMF_KQF6J9Zs"
   },
   "source": [
    "# Ejemplos del m'etodo Montecarlo"
   ]
  },
  {
   "cell_type": "code",
   "execution_count": 1,
   "metadata": {
    "ExecuteTime": {
     "end_time": "2025-01-29T22:10:00.463470Z",
     "start_time": "2025-01-29T22:10:00.461438Z"
    },
    "id": "S1EUJsgUL-lu"
   },
   "outputs": [],
   "source": [
    "import random\n",
    "import collections\n",
    "import math\n",
    "from types import SimpleNamespace\n",
    "from typing import List, Tuple, Dict, Any, Optional\n",
    "from itertools import product"
   ]
  },
  {
   "cell_type": "markdown",
   "metadata": {
    "id": "eUx8XLq7JqpQ"
   },
   "source": [
    "##Calculo de pares en una cantidad x de manos  "
   ]
  },
  {
   "cell_type": "code",
   "execution_count": 2,
   "metadata": {
    "ExecuteTime": {
     "end_time": "2025-01-29T22:09:56.821382Z",
     "start_time": "2025-01-29T22:09:56.819091Z"
    },
    "id": "hqN_NX76MHfT"
   },
   "outputs": [],
   "source": [
    "#definicion de una baraja\n",
    "PALOS = ['Espada', 'Trebol', 'Rombo', 'Corazon']\n",
    "VALORES = ['As', '2', '3', '4', '5', '6', '7', '8', '9', '10', 'Jota', 'Reina', 'Rey']\n"
   ]
  },
  {
   "cell_type": "code",
   "execution_count": 3,
   "metadata": {
    "ExecuteTime": {
     "end_time": "2025-01-29T22:05:20.654800Z",
     "start_time": "2025-01-29T22:05:20.652598Z"
    },
    "id": "w-OHi1ETMa8b"
   },
   "outputs": [],
   "source": [
    "#crea una baraja\n",
    "def crear_baraja():\n",
    "    baraja = []\n",
    "    for palo in PALOS:\n",
    "        for valor in VALORES:\n",
    "            baraja.append((palo, valor))\n",
    "    return baraja"
   ]
  },
  {
   "cell_type": "code",
   "execution_count": 4,
   "metadata": {
    "id": "Tr3FBLn4MgeC"
   },
   "outputs": [],
   "source": [
    "#obtener mano\n",
    "def obtener_mano(barajas, tamano_mano):\n",
    "    mano = random.sample(barajas, tamano_mano)\n",
    "    return mano\n"
   ]
  },
  {
   "cell_type": "code",
   "execution_count": 5,
   "metadata": {
    "colab": {
     "base_uri": "https://localhost:8080/"
    },
    "id": "6wqDtfEgM2Vj",
    "outputId": "1bec3d93-3ddd-4f14-8624-f2c398888309"
   },
   "outputs": [
    {
     "name": "stdout",
     "output_type": "stream",
     "text": [
      "[('Trebol', 'Jota'), ('Espada', 'Rey'), ('Rombo', '4'), ('Corazon', 'Reina'), ('Espada', 'As')]\n"
     ]
    }
   ],
   "source": [
    "#resulatado mano\n",
    "mano = obtener_mano(crear_baraja(), 5)\n",
    "print(mano)"
   ]
  },
  {
   "cell_type": "code",
   "execution_count": 7,
   "metadata": {
    "id": "7diHh97zNGGB"
   },
   "outputs": [],
   "source": [
    "# Definicion de un juego con varias manos y el porcentaje de pares que se puede obtener\n",
    "def valor_mano(tamano_mano, intentos):\n",
    "    barajas = crear_baraja()\n",
    "    manos = []\n",
    "    for _ in range(intentos):\n",
    "        mano = obtener_mano(barajas, tamano_mano)\n",
    "        manos.append(mano)\n",
    "\n",
    "    pares = 0\n",
    "    for mano in manos:\n",
    "        valores = []\n",
    "        for carta in mano:\n",
    "            valores.append(carta[1])\n",
    "\n",
    "        counter = dict(collections.Counter(valores))\n",
    "        for val in counter.values():\n",
    "            if val == 2:\n",
    "                pares += 1\n",
    "                break\n",
    "\n",
    "\n",
    "    porcentaje = pares / intentos * 100\n",
    "    print(f\"El porcentaje de manos que tienen un par es: {porcentaje}%\")\n",
    "    return manos\n"
   ]
  },
  {
   "cell_type": "code",
   "execution_count": 8,
   "metadata": {
    "colab": {
     "base_uri": "https://localhost:8080/"
    },
    "id": "9yRk6z-0NeZ6",
    "outputId": "b21be608-f5e0-45e8-fd62-70e5a547ef04"
   },
   "outputs": [
    {
     "name": "stdout",
     "output_type": "stream",
     "text": [
      "El porcentaje de manos que tienen un par es: 47.69230769230769%\n",
      "[[('Trebol', 'Jota'), ('Espada', '8'), ('Trebol', '10'), ('Rombo', 'As'), ('Espada', 'Rey')], [('Rombo', '10'), ('Rombo', 'Jota'), ('Corazon', 'Jota'), ('Rombo', 'Reina'), ('Rombo', '6')], [('Corazon', '9'), ('Espada', 'Jota'), ('Trebol', '4'), ('Trebol', 'Rey'), ('Trebol', '9')], [('Trebol', 'Jota'), ('Espada', 'Reina'), ('Trebol', '6'), ('Rombo', 'Jota'), ('Trebol', '4')], [('Rombo', '2'), ('Espada', 'Jota'), ('Espada', 'As'), ('Corazon', '4'), ('Rombo', '5')], [('Rombo', 'As'), ('Espada', '4'), ('Corazon', 'Jota'), ('Trebol', '7'), ('Corazon', '10')], [('Rombo', '6'), ('Trebol', '3'), ('Trebol', '6'), ('Corazon', 'As'), ('Espada', '9')], [('Trebol', '5'), ('Trebol', '10'), ('Corazon', '7'), ('Corazon', '6'), ('Corazon', 'Rey')], [('Corazon', '3'), ('Rombo', '10'), ('Rombo', '9'), ('Corazon', '4'), ('Corazon', 'Reina')], [('Rombo', 'Rey'), ('Trebol', 'Jota'), ('Corazon', 'Rey'), ('Espada', '8'), ('Corazon', '6')], [('Rombo', '8'), ('Trebol', '7'), ('Trebol', '3'), ('Rombo', '4'), ('Espada', '7')], [('Espada', '10'), ('Corazon', '4'), ('Corazon', '2'), ('Trebol', '9'), ('Trebol', 'Reina')], [('Trebol', 'Rey'), ('Corazon', 'Jota'), ('Rombo', '6'), ('Trebol', 'As'), ('Corazon', 'Rey')], [('Trebol', '2'), ('Espada', '10'), ('Rombo', 'As'), ('Rombo', 'Rey'), ('Rombo', '10')], [('Rombo', '7'), ('Rombo', '2'), ('Corazon', 'Jota'), ('Trebol', 'Rey'), ('Corazon', '3')], [('Corazon', '10'), ('Corazon', '8'), ('Espada', '2'), ('Corazon', 'Reina'), ('Rombo', 'Rey')], [('Trebol', 'Reina'), ('Trebol', '10'), ('Trebol', '9'), ('Espada', 'Rey'), ('Espada', '4')], [('Espada', '5'), ('Espada', '2'), ('Corazon', '4'), ('Rombo', '7'), ('Espada', 'Rey')], [('Espada', '4'), ('Espada', '6'), ('Espada', 'Jota'), ('Trebol', '6'), ('Espada', 'As')], [('Corazon', 'As'), ('Trebol', 'Rey'), ('Corazon', '2'), ('Espada', '4'), ('Rombo', 'As')], [('Corazon', '6'), ('Corazon', 'As'), ('Espada', '4'), ('Corazon', 'Jota'), ('Trebol', 'As')], [('Espada', '7'), ('Trebol', '2'), ('Trebol', 'Jota'), ('Espada', '10'), ('Corazon', '5')], [('Corazon', 'Jota'), ('Trebol', '2'), ('Trebol', '3'), ('Espada', '8'), ('Rombo', 'Reina')], [('Espada', '4'), ('Corazon', 'Rey'), ('Corazon', 'Jota'), ('Corazon', '8'), ('Trebol', '5')], [('Espada', 'Reina'), ('Espada', 'As'), ('Espada', '9'), ('Espada', '10'), ('Rombo', '5')], [('Rombo', '4'), ('Rombo', '2'), ('Espada', '7'), ('Espada', 'Rey'), ('Espada', '3')], [('Trebol', '4'), ('Corazon', 'Reina'), ('Trebol', '2'), ('Espada', '10'), ('Trebol', '9')], [('Rombo', 'Reina'), ('Corazon', 'Rey'), ('Trebol', '2'), ('Corazon', '4'), ('Rombo', '10')], [('Espada', '6'), ('Trebol', '6'), ('Corazon', '6'), ('Espada', '5'), ('Espada', 'As')], [('Espada', '8'), ('Corazon', '9'), ('Rombo', '9'), ('Trebol', '7'), ('Rombo', 'As')], [('Espada', 'Jota'), ('Corazon', 'Reina'), ('Trebol', '7'), ('Espada', '7'), ('Rombo', '6')], [('Trebol', 'As'), ('Corazon', 'Rey'), ('Corazon', 'Reina'), ('Espada', 'Reina'), ('Trebol', '9')], [('Rombo', 'Rey'), ('Corazon', '5'), ('Corazon', '6'), ('Corazon', '10'), ('Trebol', 'Jota')], [('Corazon', '9'), ('Trebol', 'Rey'), ('Corazon', '3'), ('Corazon', '5'), ('Corazon', 'Rey')], [('Trebol', '7'), ('Espada', '3'), ('Trebol', '5'), ('Rombo', '10'), ('Rombo', '9')], [('Corazon', 'As'), ('Corazon', '3'), ('Espada', 'As'), ('Corazon', 'Reina'), ('Corazon', 'Rey')], [('Rombo', '5'), ('Rombo', '2'), ('Espada', '3'), ('Rombo', 'Reina'), ('Trebol', '6')], [('Espada', '5'), ('Espada', 'Jota'), ('Trebol', '2'), ('Rombo', 'Rey'), ('Espada', '8')], [('Rombo', 'As'), ('Espada', '6'), ('Corazon', 'Jota'), ('Corazon', '8'), ('Espada', '4')], [('Corazon', 'As'), ('Rombo', '6'), ('Corazon', '9'), ('Espada', 'Rey'), ('Corazon', '8')], [('Trebol', '10'), ('Trebol', '4'), ('Espada', '2'), ('Rombo', '5'), ('Rombo', 'Rey')], [('Trebol', '9'), ('Rombo', '9'), ('Espada', 'Reina'), ('Rombo', 'As'), ('Espada', '6')], [('Corazon', 'Reina'), ('Rombo', '2'), ('Espada', '7'), ('Trebol', '10'), ('Rombo', '5')], [('Rombo', 'Jota'), ('Espada', '9'), ('Rombo', '4'), ('Corazon', '8'), ('Corazon', 'Reina')], [('Espada', '6'), ('Corazon', 'As'), ('Corazon', '5'), ('Trebol', 'Jota'), ('Espada', '2')], [('Espada', '2'), ('Rombo', 'Rey'), ('Espada', 'Rey'), ('Trebol', 'Jota'), ('Trebol', '4')], [('Espada', '4'), ('Trebol', '9'), ('Corazon', 'Jota'), ('Corazon', '8'), ('Trebol', '4')], [('Espada', '6'), ('Corazon', '8'), ('Corazon', '3'), ('Rombo', '7'), ('Espada', '8')], [('Corazon', '7'), ('Rombo', 'Rey'), ('Rombo', '10'), ('Corazon', 'Reina'), ('Espada', 'Reina')], [('Rombo', '3'), ('Rombo', '5'), ('Trebol', 'Reina'), ('Trebol', '2'), ('Trebol', '7')], [('Corazon', '2'), ('Trebol', '3'), ('Corazon', 'Jota'), ('Rombo', 'Reina'), ('Espada', 'Reina')], [('Rombo', '7'), ('Corazon', 'Jota'), ('Rombo', '5'), ('Trebol', '3'), ('Trebol', '7')], [('Corazon', 'Rey'), ('Corazon', '6'), ('Corazon', '8'), ('Espada', '2'), ('Espada', 'As')], [('Rombo', 'Jota'), ('Rombo', '8'), ('Corazon', '6'), ('Rombo', '10'), ('Corazon', 'Jota')], [('Espada', 'Reina'), ('Trebol', '9'), ('Rombo', 'Jota'), ('Corazon', '9'), ('Corazon', '10')], [('Trebol', '5'), ('Rombo', '2'), ('Corazon', '5'), ('Espada', '9'), ('Corazon', 'Reina')], [('Espada', '9'), ('Rombo', '6'), ('Trebol', '2'), ('Espada', '2'), ('Trebol', '10')], [('Trebol', '7'), ('Rombo', '7'), ('Espada', '6'), ('Rombo', '2'), ('Trebol', '2')], [('Rombo', '4'), ('Trebol', '6'), ('Corazon', 'Reina'), ('Rombo', '5'), ('Trebol', 'Jota')], [('Rombo', '9'), ('Trebol', 'As'), ('Espada', '10'), ('Rombo', 'As'), ('Espada', '7')], [('Espada', '5'), ('Trebol', 'As'), ('Corazon', 'As'), ('Espada', '3'), ('Corazon', 'Rey')], [('Rombo', '2'), ('Espada', '10'), ('Rombo', '3'), ('Espada', '9'), ('Espada', '6')], [('Espada', '9'), ('Rombo', 'Rey'), ('Trebol', '3'), ('Rombo', '4'), ('Espada', '4')], [('Espada', '7'), ('Espada', '9'), ('Corazon', 'Reina'), ('Espada', '3'), ('Trebol', '5')], [('Corazon', 'As'), ('Espada', 'Reina'), ('Trebol', '4'), ('Espada', '5'), ('Trebol', '9')]]\n"
     ]
    }
   ],
   "source": [
    "#implementacion\n",
    "tamano_mano = int(input(\"Ingrese el tamaño de la mano: \"))\n",
    "intentos = int(input(\"Ingrese el número de intentos: \"))\n",
    "manos = valor_mano(tamano_mano, intentos)\n",
    "print(manos)"
   ]
  },
  {
   "cell_type": "markdown",
   "metadata": {
    "id": "l6Mo_sOVwCYY"
   },
   "source": [
    "## CalculoPi"
   ]
  },
  {
   "cell_type": "code",
   "execution_count": 14,
   "metadata": {
    "id": "jcSPIs6HwBzU"
   },
   "outputs": [],
   "source": [
    "#Se intenta calcular pi mediante una funcion que a partir de un numero de agujas las pone al azar en un rectangulo de [-1, 1] y\n",
    "#cuenta cuantas quedan dentro de un circulo\n",
    "def aventar_agujas(numero_agujas):\n",
    "  adentro_circulo = 0\n",
    "  for _ in range(numero_agujas):\n",
    "    x = random.random()*random.choice([-1, 1])\n",
    "    y = random.random()*random.choice([-1, 1])\n",
    "    distancia_desde_centro = math.sqrt(x**2 + y**2)\n",
    "    if distancia_desde_centro <= 1:\n",
    "      adentro_circulo += 1\n",
    "  return (4 * adentro_circulo) / numero_agujas\n"
   ]
  },
  {
   "cell_type": "code",
   "execution_count": 10,
   "metadata": {
    "id": "4zLVZTOw85Xn"
   },
   "outputs": [],
   "source": [
    "#calculo de\n",
    "def esimacion(numero_agujas, numero_intentos):\n",
    "  estimaciones = []\n",
    "  for _ in range(numero_intentos):\n",
    "    estimacion_pi = aventar_agujas(numero_agujas)\n",
    "    estimaciones.append(estimacion_pi)\n",
    "  media_estimaciones = sum(estimaciones) / len(estimaciones)\n",
    "  sigma = math.sqrt(sum([(estimacion - media_estimaciones)**2 for estimacion in estimaciones]) / len(estimaciones))\n",
    "  print(f\"Estimacion = {round(media_estimaciones, 5)}, sigma = {round(sigma, 5)}, agujas = {numero_agujas}\")\n",
    "\n",
    "  return (media_estimaciones, sigma)\n"
   ]
  },
  {
   "cell_type": "code",
   "execution_count": 11,
   "metadata": {
    "id": "hvW_46q08Vsp"
   },
   "outputs": [],
   "source": [
    "\n",
    "def estimar_pi(precision, numero_intentos):\n",
    "  numero_agujas = 1000\n",
    "  sigma = precision\n",
    "\n",
    "  while sigma >= precision / 1.96:\n",
    "    media, sigma = esimacion(numero_agujas, numero_intentos)\n",
    "    numero_agujas *= 2\n",
    "  return media\n"
   ]
  },
  {
   "cell_type": "code",
   "execution_count": 12,
   "metadata": {
    "colab": {
     "base_uri": "https://localhost:8080/"
    },
    "id": "R7dJCsSq_PTa",
    "outputId": "bba2cf9e-21d2-41d7-ae0a-ffdebbac8698"
   },
   "outputs": [
    {
     "name": "stdout",
     "output_type": "stream",
     "text": [
      "Estimacion = 3.13887, sigma = 0.04993, agujas = 1000\n",
      "Estimacion = 3.14319, sigma = 0.0364, agujas = 2000\n",
      "Estimacion = 3.14248, sigma = 0.02563, agujas = 4000\n",
      "Estimacion = 3.14232, sigma = 0.01937, agujas = 8000\n",
      "Estimacion = 3.14175, sigma = 0.01278, agujas = 16000\n",
      "Estimacion = 3.1414, sigma = 0.0092, agujas = 32000\n",
      "Estimacion = 3.14163, sigma = 0.00627, agujas = 64000\n",
      "Estimacion = 3.14161, sigma = 0.00462, agujas = 128000\n"
     ]
    },
    {
     "data": {
      "text/plain": [
       "3.14161065625"
      ]
     },
     "execution_count": 12,
     "metadata": {},
     "output_type": "execute_result"
    }
   ],
   "source": [
    "estimar_pi(0.01, 1000)"
   ]
  },
  {
   "cell_type": "code",
   "execution_count": 13,
   "metadata": {},
   "outputs": [],
   "source": [
    "def crear_baraja():\n",
    "    baraja = []\n",
    "    for palo in PALOS:\n",
    "        for valor in VALORES:\n",
    "            baraja.append((palo, valor))\n",
    "    return baraja"
   ]
  },
  {
   "cell_type": "markdown",
   "metadata": {},
   "source": [
    "## Pca"
   ]
  },
  {
   "cell_type": "code",
   "execution_count": 18,
   "metadata": {},
   "outputs": [
    {
     "data": {
      "image/png": "[encoded data removed]",
      "text/plain": [
       "<Figure size 640x480 with 1 Axes>"
      ]
     },
     "metadata": {},
     "output_type": "display_data"
    }
   ],
   "source": [
    "import numpy as np\n",
    "import matplotlib.pyplot as plt\n",
    "\n",
    "# Definimos la semilla para reproducir el experimento\n",
    "np.random.seed(0)\n",
    "\n",
    "# Generamos números aleatorios\n",
    "X = 3 * np.random.rand(200, 1)\n",
    "y = 20 + 20 * X + 2 * np.random.rand(200, 1)\n",
    "\n",
    "# Formateamos las matrices\n",
    "X = X.reshape((200, 1))\n",
    "y = y.reshape((200, 1))\n",
    "\n",
    "# Concatenamos los vectores\n",
    "XY = np.hstack((X, y))\n",
    "\n",
    "# Visualizamos la dispersión de los puntos\n",
    "plt.scatter(XY[:, 0], XY[:, 1], marker='o', color='b')\n",
    "plt.xlabel('X')\n",
    "plt.ylabel('Y')\n",
    "plt.show()"
   ]
  },
  {
   "cell_type": "code",
   "execution_count": 19,
   "metadata": {},
   "outputs": [
    {
     "ename": "IndexError",
     "evalue": "index 1 is out of bounds for axis 1 with size 1",
     "output_type": "error",
     "traceback": [
      "\u001b[31m---------------------------------------------------------------------------\u001b[39m",
      "\u001b[31mIndexError\u001b[39m                                Traceback (most recent call last)",
      "\u001b[36mCell\u001b[39m\u001b[36m \u001b[39m\u001b[32mIn[19]\u001b[39m\u001b[32m, line 14\u001b[39m\n\u001b[32m     12\u001b[39m vector_colors = [\u001b[33m'\u001b[39m\u001b[33mr\u001b[39m\u001b[33m'\u001b[39m, \u001b[33m'\u001b[39m\u001b[33mb\u001b[39m\u001b[33m'\u001b[39m]\n\u001b[32m     13\u001b[39m plt.quiver(*np.mean(X_centered, axis=\u001b[32m0\u001b[39m), *eigenvectors[:,\u001b[32m0\u001b[39m], scale=eigenvalues[\u001b[32m0\u001b[39m], color=vector_colors[\u001b[32m0\u001b[39m])\n\u001b[32m---> \u001b[39m\u001b[32m14\u001b[39m plt.quiver(*np.mean(y, axis=\u001b[32m0\u001b[39m), *\u001b[43meigenvectors\u001b[49m\u001b[43m[\u001b[49m\u001b[43m:\u001b[49m\u001b[43m,\u001b[49m\u001b[32;43m1\u001b[39;49m\u001b[43m]\u001b[49m, scale=eigenvalues[\u001b[32m1\u001b[39m], color=vector_colors[\u001b[32m1\u001b[39m])\n\u001b[32m     15\u001b[39m plt.show()\n",
      "\u001b[31mIndexError\u001b[39m: index 1 is out of bounds for axis 1 with size 1"
     ]
    },
    {
     "data": {
      "image/png": "[encoded data removed]",
      "text/plain": [
       "<Figure size 640x480 with 1 Axes>"
      ]
     },
     "metadata": {},
     "output_type": "display_data"
    }
   ],
   "source": [
    "# Centramos los datos\n",
    "X_centered = X - np.mean(X, axis=0)\n",
    "Y_centered = y - np.mean(y, axis=0)\n",
    "\n",
    "# Recalculamos el producto interno\n",
    "cov_matrix = np.dot(X_centered.T, X_centered)\n",
    "\n",
    "# Calculamos los autovalores y autovectores\n",
    "eigenvalues, eigenvectors = np.linalg.eigh(cov_matrix)\n",
    "\n",
    "# Graficamos los autovectores\n",
    "vector_colors = ['r', 'b']\n",
    "plt.quiver(*np.mean(X_centered, axis=0), *eigenvectors[:,0], scale=eigenvalues[0], color=vector_colors[0])\n",
    "plt.quiver(*np.mean(y, axis=0), *eigenvectors[:,1], scale=eigenvalues[1], color=vector_colors[1])\n",
    "plt.show()"
   ]
  }
 ],
 "metadata": {
  "colab": {
   "provenance": []
  },
  "kernelspec": {
   "display_name": ".venv",
   "language": "python",
   "name": "python3"
  },
  "language_info": {
   "codemirror_mode": {
    "name": "ipython",
    "version": 3
   },
   "file_extension": ".py",
   "mimetype": "text/x-python",
   "name": "python",
   "nbconvert_exporter": "python",
   "pygments_lexer": "ipython3",
   "version": "3.13.3"
  }
 },
 "nbformat": 4,
 "nbformat_minor": 0
}
