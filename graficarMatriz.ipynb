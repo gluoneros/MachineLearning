{
 "cells": [
  {
   "cell_type": "code",
   "execution_count": null,
   "metadata": {},
   "outputs": [],
   "source": [
    "def graficarMatriz(matriz, vectorCol=['red', 'blue']):\n",
    "    \n",
    "    #circulo unitario\n",
    "    x = np.linspace(-1,1, 100000)\n",
    "    y = np.sqrt(1-(x**2))\n",
    "    \n",
    "    #circulo unitario transformado\n",
    "    x1 = matriz[0,0]*x + matriz[0,1]*y\n",
    "    y1 = matriz[1,0]*x + matriz[1,1]*y\n",
    "    x1_neg = matriz[0,0]*x - matriz[0,1]*y\n",
    "    y1_neg = matriz[1,0]*x - matriz[1,1]*y\n",
    "    \n",
    "    #vectores\n",
    "    u1 = [matriz[0,0], matriz[1,0]]\n",
    "    v1 = [matriz[0,1], matriz[1,1]]\n",
    "    \n",
    "    graficarVectores([u1, v1], cols=[vectorCol[0], vectorCol[1]])\n",
    "    \n",
    "    plt.plot(x1, y1, 'green', alpha = 0.7)\n",
    "    plt.plot(x1_neg, y1_neg, 'green', alpha = 0.7)"
   ]
  }
 ],
 "metadata": {
  "kernelspec": {
   "display_name": "Python 3",
   "language": "python",
   "name": "python3"
  },
  "language_info": {
   "codemirror_mode": {
    "name": "ipython",
    "version": 3
   },
   "file_extension": ".py",
   "mimetype": "text/x-python",
   "name": "python",
   "nbconvert_exporter": "python",
   "pygments_lexer": "ipython3",
   "version": "3.7.4"
  }
 },
 "nbformat": 4,
 "nbformat_minor": 2
}
