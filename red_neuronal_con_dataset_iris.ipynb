{
  "cells": [
    {
      "cell_type": "code",
      "execution_count": 5,
      "metadata": {
        "id": "OY5MFibS9f3j"
      },
      "outputs": [
        {
          "ename": "ModuleNotFoundError",
          "evalue": "No module named 'tensorflow'",
          "output_type": "error",
          "traceback": [
            "\u001b[31m---------------------------------------------------------------------------\u001b[39m",
            "\u001b[31mModuleNotFoundError\u001b[39m                       Traceback (most recent call last)",
            "\u001b[36mCell\u001b[39m\u001b[36m \u001b[39m\u001b[32mIn[5]\u001b[39m\u001b[32m, line 11\u001b[39m\n\u001b[32m      8\u001b[39m \u001b[38;5;28;01mimport\u001b[39;00m\u001b[38;5;250m \u001b[39m\u001b[34;01mmatplotlib\u001b[39;00m\u001b[34;01m.\u001b[39;00m\u001b[34;01mpyplot\u001b[39;00m\u001b[38;5;250m \u001b[39m\u001b[38;5;28;01mas\u001b[39;00m\u001b[38;5;250m \u001b[39m\u001b[34;01mplt\u001b[39;00m\n\u001b[32m     10\u001b[39m \u001b[38;5;66;03m# Importar Keras desde TensorFlow para crear redes neuronales\u001b[39;00m\n\u001b[32m---> \u001b[39m\u001b[32m11\u001b[39m \u001b[38;5;28;01mimport\u001b[39;00m\u001b[38;5;250m \u001b[39m\u001b[34;01mtensorflow\u001b[39;00m\u001b[38;5;250m \u001b[39m\u001b[38;5;28;01mas\u001b[39;00m\u001b[38;5;250m \u001b[39m\u001b[34;01mtf\u001b[39;00m\n\u001b[32m     12\u001b[39m \u001b[38;5;28;01mfrom\u001b[39;00m\u001b[38;5;250m \u001b[39m\u001b[34;01mtensorflow\u001b[39;00m\u001b[38;5;250m \u001b[39m\u001b[38;5;28;01mimport\u001b[39;00m keras\n\u001b[32m     13\u001b[39m \u001b[38;5;28;01mfrom\u001b[39;00m\u001b[38;5;250m \u001b[39m\u001b[34;01mtensorflow\u001b[39;00m\u001b[34;01m.\u001b[39;00m\u001b[34;01mkeras\u001b[39;00m\u001b[38;5;250m \u001b[39m\u001b[38;5;28;01mimport\u001b[39;00m layers\n",
            "\u001b[31mModuleNotFoundError\u001b[39m: No module named 'tensorflow'"
          ]
        }
      ],
      "source": [
        "# Si alguna librería no está instalada en Colab (normalmente TensorFlow viene preinstalado)\n",
        "# Puedes instalarla así (descomenta la siguiente línea si hace falta):\n",
        "# !pip install tensorflow pandas matplotlib\n",
        "\n",
        "# Importar las librerías\n",
        "import numpy as np\n",
        "import pandas as pd\n",
        "import matplotlib.pyplot as plt\n",
        "\n",
        "# Importar Keras desde TensorFlow para crear redes neuronales\n",
        "import tensorflow as tf\n",
        "from tensorflow import keras\n",
        "from tensorflow.keras import layers\n"
      ]
    },
    {
      "cell_type": "markdown",
      "metadata": {
        "id": "01lOqf7D9xZT"
      },
      "source": [
        "✅ Estamos preparando las \"herramientas\" que vamos a usar.\n",
        "✅ tensorflow.keras nos va a permitir crear la red neuronal \"como con bloques de lego\".\n",
        "✅ pandas nos ayuda a leer los datos (que luego la red aprenderá).\n",
        "✅ matplotlib sirve para dibujar los resultados.\n"
      ]
    },
    {
      "cell_type": "markdown",
      "metadata": {
        "id": "q2jTzWB0-Qe7"
      },
      "source": [
        "Ejemplo de una fila de datos:\n",
        "\n",
        "Largo sépalo\tAncho sépalo\tLargo pétalo\tAncho pétalo\tTipo de flor\n"
      ]
    },
    {
      "cell_type": "markdown",
      "metadata": {
        "id": "Tozrf0kk-bXS"
      },
      "source": [
        "Las especies de flores están codificadas con números para que la red las pueda aprender:\n",
        "\n",
        "0 → Iris Setosa\n",
        "\n",
        "1 → Iris Versicolor\n",
        "\n",
        "2 → Iris Virginica"
      ]
    },
    {
      "cell_type": "code",
      "execution_count": null,
      "metadata": {
        "colab": {
          "base_uri": "https://localhost:8080/"
        },
        "id": "8mwnt8V0-ura",
        "outputId": "11f72972-80f5-462a-d3fb-720112ecf99c"
      },
      "outputs": [
        {
          "name": "stdout",
          "output_type": "stream",
          "text": [
            "X_train shape: (120, 4)\n",
            "y_train shape: (120,)\n",
            "X_test shape: (30, 4)\n",
            "y_test shape: (30,)\n"
          ]
        }
      ],
      "source": [
        "# Importamos librerías necesarias\n",
        "from sklearn.datasets import load_iris  # para cargar el dataset\n",
        "from sklearn.model_selection import train_test_split  # para dividir los datos\n",
        "from sklearn.preprocessing import StandardScaler  # para normalizar\n",
        "\n",
        "# Cargar el dataset de Iris\n",
        "iris = load_iris()\n",
        "\n",
        "# X → las características de cada flor (input)\n",
        "X = iris.data  # (150, 4)  # 150 ejemplos, 4 características\n",
        "\n",
        "# y → la especie de la flor (output)\n",
        "# y son etiquetas 0, 1 o 2 que representan las 3 especies de flor\n",
        "y = iris.target  # (150,) → vector de 150 elementos\n",
        "\n",
        "# Normalizamos las características para que estén en una escala similar\n",
        "scaler = StandardScaler()\n",
        "X_scaled = scaler.fit_transform(X)\n",
        "\n",
        "# Dividimos los datos:\n",
        "# - 80% para entrenar (X_train, y_train)\n",
        "# - 20% para probar (X_test, y_test)\n",
        "X_train, X_test, y_train, y_test = train_test_split(\n",
        "    X_scaled, y, test_size=0.2, random_state=42\n",
        ")\n",
        "\n",
        "# Verificamos la forma de los datos\n",
        "print(\"X_train shape:\", X_train.shape)  # (120, 4)\n",
        "print(\"y_train shape:\", y_train.shape)  # (120,)\n",
        "print(\"X_test shape:\", X_test.shape)    # (30, 4)\n",
        "print(\"y_test shape:\", y_test.shape)    # (30,)\n"
      ]
    },
    {
      "cell_type": "markdown",
      "metadata": {
        "id": "CFEnw5j2-0iB"
      },
      "source": [
        "✅ Cargamos un dataset de flores.\n",
        "✅ Cada flor tiene 4 números (sus medidas).\n",
        "✅ La especie de la flor está representada por un número (0, 1 o 2).\n",
        "✅ Ajustamos los números (normalización).\n",
        "✅ Separamos en datos para que la red aprenda y para que luego podamos probarla."
      ]
    },
    {
      "cell_type": "markdown",
      "metadata": {
        "id": "Si_uPQxO_y6Z"
      },
      "source": [
        "ANN significa Artificial Neural Network → en español: Red Neuronal Artificial.\n",
        "\n",
        "📌 Es un modelo de computador que imita el cerebro humano:\n",
        "\n",
        "Aprende a partir de ejemplos.\n",
        "\n",
        "Encuentra patrones en los datos.\n",
        "\n",
        "Sirve para clasificar cosas, predecir valores, reconocer imágenes, etc."
      ]
    },
    {
      "cell_type": "markdown",
      "metadata": {
        "id": "vr13M9aq_4UB"
      },
      "source": []
    },
    {
      "cell_type": "markdown",
      "metadata": {
        "id": "6RVzaKtG_4wa"
      },
      "source": [
        "¿Qué es una entrada en una ANN?\n",
        "Una entrada es simplemente un número que le damos a la red.\n",
        "En nuestro caso (flores Iris), cada flor tiene 4 números:\n",
        "\n",
        "Largo del sépalo\n",
        "\n",
        "Ancho del sépalo\n",
        "\n",
        "Largo del pétalo\n",
        "\n",
        "Ancho del pétalo\n",
        "\n",
        "👉 Cada flor es un \"ejemplo\", con 4 números = 4 entradas."
      ]
    },
    {
      "cell_type": "code",
      "execution_count": null,
      "metadata": {
        "id": "2qwVNgAi_-g5"
      },
      "outputs": [],
      "source": [
        "#Entradas (4 números) → Capa oculta (neuronas) → Capa oculta (neuronas) → Capa de salida (resultado: flor 0, 1 o 2)\n"
      ]
    },
    {
      "cell_type": "markdown",
      "metadata": {
        "id": "5CXFtFedAFph"
      },
      "source": [
        "¿Qué son las neuronas?\n",
        "Cada neurona toma las entradas y hace un cálculo:\n",
        "\n",
        "\"¿Si el pétalo es largo y el sépalo ancho... podría ser Iris Virginica?\"\n",
        "\n",
        "Cada capa tiene muchas neuronas, para aprender combinaciones complejas."
      ]
    },
    {
      "cell_type": "markdown",
      "metadata": {
        "id": "zJzsz7k-AI-Z"
      },
      "source": []
    },
    {
      "cell_type": "markdown",
      "metadata": {
        "id": "Pb5C2jncAJgx"
      },
      "source": [
        " ¿Qué red vamos a crear?\n",
        "✅ 4 entradas (porque cada flor tiene 4 números)\n",
        "✅ 2 capas ocultas (porque queremos que aprenda cosas un poco complejas)\n",
        "✅ Primera capa oculta → 10 neuronas\n",
        "✅ Segunda capa oculta → 8 neuronas\n",
        "✅ 1 capa de salida → 3 neuronas (una por cada tipo de flor: 0, 1 o 2)"
      ]
    },
    {
      "cell_type": "code",
      "execution_count": null,
      "metadata": {
        "colab": {
          "base_uri": "https://localhost:8080/",
          "height": 280
        },
        "id": "K8T4E0A5Ab_w",
        "outputId": "6583ab7c-f9f8-4a69-9cc1-ba4468eb48d0"
      },
      "outputs": [
        {
          "name": "stderr",
          "output_type": "stream",
          "text": [
            "/usr/local/lib/python3.11/dist-packages/keras/src/layers/core/dense.py:87: UserWarning: Do not pass an `input_shape`/`input_dim` argument to a layer. When using Sequential models, prefer using an `Input(shape)` object as the first layer in the model instead.\n",
            "  super().__init__(activity_regularizer=activity_regularizer, **kwargs)\n"
          ]
        },
        {
          "data": {
            "text/html": [
              "<pre style=\"white-space:pre;overflow-x:auto;line-height:normal;font-family:Menlo,'DejaVu Sans Mono',consolas,'Courier New',monospace\"><span style=\"font-weight: bold\">Model: \"sequential\"</span>\n",
              "</pre>\n"
            ],
            "text/plain": [
              "\u001b[1mModel: \"sequential\"\u001b[0m\n"
            ]
          },
          "metadata": {},
          "output_type": "display_data"
        },
        {
          "data": {
            "text/html": [
              "<pre style=\"white-space:pre;overflow-x:auto;line-height:normal;font-family:Menlo,'DejaVu Sans Mono',consolas,'Courier New',monospace\">┏━━━━━━━━━━━━━━━━━━━━━━━━━━━━━━━━━┳━━━━━━━━━━━━━━━━━━━━━━━━┳━━━━━━━━━━━━━━━┓\n",
              "┃<span style=\"font-weight: bold\"> Layer (type)                    </span>┃<span style=\"font-weight: bold\"> Output Shape           </span>┃<span style=\"font-weight: bold\">       Param # </span>┃\n",
              "┡━━━━━━━━━━━━━━━━━━━━━━━━━━━━━━━━━╇━━━━━━━━━━━━━━━━━━━━━━━━╇━━━━━━━━━━━━━━━┩\n",
              "│ dense (<span style=\"color: #0087ff; text-decoration-color: #0087ff\">Dense</span>)                   │ (<span style=\"color: #00d7ff; text-decoration-color: #00d7ff\">None</span>, <span style=\"color: #00af00; text-decoration-color: #00af00\">10</span>)             │            <span style=\"color: #00af00; text-decoration-color: #00af00\">50</span> │\n",
              "├─────────────────────────────────┼────────────────────────┼───────────────┤\n",
              "│ dense_1 (<span style=\"color: #0087ff; text-decoration-color: #0087ff\">Dense</span>)                 │ (<span style=\"color: #00d7ff; text-decoration-color: #00d7ff\">None</span>, <span style=\"color: #00af00; text-decoration-color: #00af00\">8</span>)              │            <span style=\"color: #00af00; text-decoration-color: #00af00\">88</span> │\n",
              "├─────────────────────────────────┼────────────────────────┼───────────────┤\n",
              "│ dense_2 (<span style=\"color: #0087ff; text-decoration-color: #0087ff\">Dense</span>)                 │ (<span style=\"color: #00d7ff; text-decoration-color: #00d7ff\">None</span>, <span style=\"color: #00af00; text-decoration-color: #00af00\">3</span>)              │            <span style=\"color: #00af00; text-decoration-color: #00af00\">27</span> │\n",
              "└─────────────────────────────────┴────────────────────────┴───────────────┘\n",
              "</pre>\n"
            ],
            "text/plain": [
              "┏━━━━━━━━━━━━━━━━━━━━━━━━━━━━━━━━━┳━━━━━━━━━━━━━━━━━━━━━━━━┳━━━━━━━━━━━━━━━┓\n",
              "┃\u001b[1m \u001b[0m\u001b[1mLayer (type)                   \u001b[0m\u001b[1m \u001b[0m┃\u001b[1m \u001b[0m\u001b[1mOutput Shape          \u001b[0m\u001b[1m \u001b[0m┃\u001b[1m \u001b[0m\u001b[1m      Param #\u001b[0m\u001b[1m \u001b[0m┃\n",
              "┡━━━━━━━━━━━━━━━━━━━━━━━━━━━━━━━━━╇━━━━━━━━━━━━━━━━━━━━━━━━╇━━━━━━━━━━━━━━━┩\n",
              "│ dense (\u001b[38;5;33mDense\u001b[0m)                   │ (\u001b[38;5;45mNone\u001b[0m, \u001b[38;5;34m10\u001b[0m)             │            \u001b[38;5;34m50\u001b[0m │\n",
              "├─────────────────────────────────┼────────────────────────┼───────────────┤\n",
              "│ dense_1 (\u001b[38;5;33mDense\u001b[0m)                 │ (\u001b[38;5;45mNone\u001b[0m, \u001b[38;5;34m8\u001b[0m)              │            \u001b[38;5;34m88\u001b[0m │\n",
              "├─────────────────────────────────┼────────────────────────┼───────────────┤\n",
              "│ dense_2 (\u001b[38;5;33mDense\u001b[0m)                 │ (\u001b[38;5;45mNone\u001b[0m, \u001b[38;5;34m3\u001b[0m)              │            \u001b[38;5;34m27\u001b[0m │\n",
              "└─────────────────────────────────┴────────────────────────┴───────────────┘\n"
            ]
          },
          "metadata": {},
          "output_type": "display_data"
        },
        {
          "data": {
            "text/html": [
              "<pre style=\"white-space:pre;overflow-x:auto;line-height:normal;font-family:Menlo,'DejaVu Sans Mono',consolas,'Courier New',monospace\"><span style=\"font-weight: bold\"> Total params: </span><span style=\"color: #00af00; text-decoration-color: #00af00\">165</span> (660.00 B)\n",
              "</pre>\n"
            ],
            "text/plain": [
              "\u001b[1m Total params: \u001b[0m\u001b[38;5;34m165\u001b[0m (660.00 B)\n"
            ]
          },
          "metadata": {},
          "output_type": "display_data"
        },
        {
          "data": {
            "text/html": [
              "<pre style=\"white-space:pre;overflow-x:auto;line-height:normal;font-family:Menlo,'DejaVu Sans Mono',consolas,'Courier New',monospace\"><span style=\"font-weight: bold\"> Trainable params: </span><span style=\"color: #00af00; text-decoration-color: #00af00\">165</span> (660.00 B)\n",
              "</pre>\n"
            ],
            "text/plain": [
              "\u001b[1m Trainable params: \u001b[0m\u001b[38;5;34m165\u001b[0m (660.00 B)\n"
            ]
          },
          "metadata": {},
          "output_type": "display_data"
        },
        {
          "data": {
            "text/html": [
              "<pre style=\"white-space:pre;overflow-x:auto;line-height:normal;font-family:Menlo,'DejaVu Sans Mono',consolas,'Courier New',monospace\"><span style=\"font-weight: bold\"> Non-trainable params: </span><span style=\"color: #00af00; text-decoration-color: #00af00\">0</span> (0.00 B)\n",
              "</pre>\n"
            ],
            "text/plain": [
              "\u001b[1m Non-trainable params: \u001b[0m\u001b[38;5;34m0\u001b[0m (0.00 B)\n"
            ]
          },
          "metadata": {},
          "output_type": "display_data"
        }
      ],
      "source": [
        "# Definir la red neuronal\n",
        "# Usamos Sequential para una red sencilla\n",
        "\n",
        "model = keras.Sequential([\n",
        "    # Capa de entrada y primera capa oculta\n",
        "    layers.Dense(10, activation='relu', input_shape=(4,)),\n",
        "\n",
        "    # Segunda capa oculta\n",
        "    layers.Dense(8, activation='relu'),\n",
        "\n",
        "    # Capa de salida (3 neuronas, porque tenemos 3 clases: 0,1,2)\n",
        "    layers.Dense(3, activation='softmax')\n",
        "])\n",
        "\n",
        "# Resumen del modelo (opcional, solo para ver cómo quedó)\n",
        "model.summary()\n"
      ]
    },
    {
      "cell_type": "markdown",
      "metadata": {
        "id": "NnncuQiqAorI"
      },
      "source": [
        "✅ layers.Dense(10, activation='relu')\n",
        "→ Crea una capa con 10 neuronas y función relu, que ayuda a aprender relaciones no lineales.\n",
        "\n",
        "✅ input_shape=(4,)\n",
        "→ La red sabe que cada flor tiene 4 características (largo sépalo, ancho sépalo, largo pétalo, ancho pétalo).\n",
        "\n",
        "✅ layers.Dense(8, activation='relu')\n",
        "→ Segunda capa oculta con 8 neuronas.\n",
        "\n",
        "✅ layers.Dense(3, activation='softmax')\n",
        "→ Capa de salida con 3 neuronas (una para cada especie de flor).\n",
        "→ softmax hace que la red devuelva \"probabilidades\" de cada clase (cuál es más probable)."
      ]
    },
    {
      "cell_type": "markdown",
      "metadata": {
        "id": "BA26apFWA3rR"
      },
      "source": []
    },
    {
      "cell_type": "markdown",
      "metadata": {
        "id": "MjkSBABlA4CQ"
      },
      "source": [
        "¿Qué significa \"compilar\" la red?\n",
        "👉 Es como decirle a la red cómo va a aprender.\n",
        "\n",
        "Cuando compilas una red, le indicas 3 cosas:\n",
        "\n",
        "Optimizador → cómo va a ajustar sus pesos (cómo \"mejora\").\n",
        "➡️ Usaremos adam (funciona muy bien).\n",
        "\n",
        "Función de pérdida (loss) → cómo mide qué tan mal se está equivocando.\n",
        "➡️ Usaremos sparse_categorical_crossentropy porque tenemos 3 clases (0,1,2).\n",
        "\n",
        "Métrica de evaluación → cómo medimos qué tan bien está funcionando.\n",
        "➡️ Usaremos accuracy (qué porcentaje de flores clasifica bien)."
      ]
    },
    {
      "cell_type": "code",
      "execution_count": null,
      "metadata": {
        "id": "S4_pfat0A7ef"
      },
      "outputs": [],
      "source": [
        "# Compilar la red (definir cómo va a aprender)\n",
        "model.compile(\n",
        "    optimizer='adam',\n",
        "    loss='sparse_categorical_crossentropy',\n",
        "    metrics=['accuracy']\n",
        ")\n"
      ]
    },
    {
      "cell_type": "markdown",
      "metadata": {
        "id": "6l5f9bMEA_XI"
      },
      "source": [
        "¿Qué significa \"entrenar\" la red?\n",
        "✅ Es darle los ejemplos (flores), para que aprenda.\n",
        "\n",
        "Cada vez que la red ve TODOS los datos de entrenamiento, eso se llama 1 época (epoch).\n",
        "\n",
        "👉 Le diremos que repita varias épocas (por ejemplo, 50) para que practique muchas veces."
      ]
    },
    {
      "cell_type": "code",
      "execution_count": null,
      "metadata": {
        "colab": {
          "base_uri": "https://localhost:8080/"
        },
        "id": "AateKZUGBE_I",
        "outputId": "f3301710-b25c-4ce3-8ca0-357258d33fef"
      },
      "outputs": [
        {
          "name": "stdout",
          "output_type": "stream",
          "text": [
            "Epoch 1/50\n",
            "\u001b[1m15/15\u001b[0m \u001b[32m━━━━━━━━━━━━━━━━━━━━\u001b[0m\u001b[37m\u001b[0m \u001b[1m2s\u001b[0m 18ms/step - accuracy: 0.2329 - loss: 1.0849 - val_accuracy: 0.3667 - val_loss: 1.0186\n",
            "Epoch 2/50\n",
            "\u001b[1m15/15\u001b[0m \u001b[32m━━━━━━━━━━━━━━━━━━━━\u001b[0m\u001b[37m\u001b[0m \u001b[1m0s\u001b[0m 6ms/step - accuracy: 0.2123 - loss: 1.0616 - val_accuracy: 0.4333 - val_loss: 0.9871\n",
            "Epoch 3/50\n",
            "\u001b[1m15/15\u001b[0m \u001b[32m━━━━━━━━━━━━━━━━━━━━\u001b[0m\u001b[37m\u001b[0m \u001b[1m0s\u001b[0m 7ms/step - accuracy: 0.3413 - loss: 1.0162 - val_accuracy: 0.4667 - val_loss: 0.9545\n",
            "Epoch 4/50\n",
            "\u001b[1m15/15\u001b[0m \u001b[32m━━━━━━━━━━━━━━━━━━━━\u001b[0m\u001b[37m\u001b[0m \u001b[1m0s\u001b[0m 6ms/step - accuracy: 0.3248 - loss: 1.0160 - val_accuracy: 0.5000 - val_loss: 0.9248\n",
            "Epoch 5/50\n",
            "\u001b[1m15/15\u001b[0m \u001b[32m━━━━━━━━━━━━━━━━━━━━\u001b[0m\u001b[37m\u001b[0m \u001b[1m0s\u001b[0m 6ms/step - accuracy: 0.4556 - loss: 0.9967 - val_accuracy: 0.5000 - val_loss: 0.8924\n",
            "Epoch 6/50\n",
            "\u001b[1m15/15\u001b[0m \u001b[32m━━━━━━━━━━━━━━━━━━━━\u001b[0m\u001b[37m\u001b[0m \u001b[1m0s\u001b[0m 6ms/step - accuracy: 0.4549 - loss: 0.9298 - val_accuracy: 0.4333 - val_loss: 0.8588\n",
            "Epoch 7/50\n",
            "\u001b[1m15/15\u001b[0m \u001b[32m━━━━━━━━━━━━━━━━━━━━\u001b[0m\u001b[37m\u001b[0m \u001b[1m0s\u001b[0m 9ms/step - accuracy: 0.4455 - loss: 0.8831 - val_accuracy: 0.4000 - val_loss: 0.8247\n",
            "Epoch 8/50\n",
            "\u001b[1m15/15\u001b[0m \u001b[32m━━━━━━━━━━━━━━━━━━━━\u001b[0m\u001b[37m\u001b[0m \u001b[1m0s\u001b[0m 6ms/step - accuracy: 0.4148 - loss: 0.9075 - val_accuracy: 0.5333 - val_loss: 0.7920\n",
            "Epoch 9/50\n",
            "\u001b[1m15/15\u001b[0m \u001b[32m━━━━━━━━━━━━━━━━━━━━\u001b[0m\u001b[37m\u001b[0m \u001b[1m0s\u001b[0m 6ms/step - accuracy: 0.5587 - loss: 0.8538 - val_accuracy: 0.6333 - val_loss: 0.7560\n",
            "Epoch 10/50\n",
            "\u001b[1m15/15\u001b[0m \u001b[32m━━━━━━━━━━━━━━━━━━━━\u001b[0m\u001b[37m\u001b[0m \u001b[1m0s\u001b[0m 6ms/step - accuracy: 0.6858 - loss: 0.8080 - val_accuracy: 0.7667 - val_loss: 0.7188\n",
            "Epoch 11/50\n",
            "\u001b[1m15/15\u001b[0m \u001b[32m━━━━━━━━━━━━━━━━━━━━\u001b[0m\u001b[37m\u001b[0m \u001b[1m0s\u001b[0m 6ms/step - accuracy: 0.7422 - loss: 0.7645 - val_accuracy: 0.7667 - val_loss: 0.6803\n",
            "Epoch 12/50\n",
            "\u001b[1m15/15\u001b[0m \u001b[32m━━━━━━━━━━━━━━━━━━━━\u001b[0m\u001b[37m\u001b[0m \u001b[1m0s\u001b[0m 6ms/step - accuracy: 0.7696 - loss: 0.7203 - val_accuracy: 0.7667 - val_loss: 0.6415\n",
            "Epoch 13/50\n",
            "\u001b[1m15/15\u001b[0m \u001b[32m━━━━━━━━━━━━━━━━━━━━\u001b[0m\u001b[37m\u001b[0m \u001b[1m0s\u001b[0m 6ms/step - accuracy: 0.8018 - loss: 0.6768 - val_accuracy: 0.7667 - val_loss: 0.6006\n",
            "Epoch 14/50\n",
            "\u001b[1m15/15\u001b[0m \u001b[32m━━━━━━━━━━━━━━━━━━━━\u001b[0m\u001b[37m\u001b[0m \u001b[1m0s\u001b[0m 6ms/step - accuracy: 0.8100 - loss: 0.6387 - val_accuracy: 0.8000 - val_loss: 0.5583\n",
            "Epoch 15/50\n",
            "\u001b[1m15/15\u001b[0m \u001b[32m━━━━━━━━━━━━━━━━━━━━\u001b[0m\u001b[37m\u001b[0m \u001b[1m0s\u001b[0m 7ms/step - accuracy: 0.7942 - loss: 0.6214 - val_accuracy: 0.8000 - val_loss: 0.5169\n",
            "Epoch 16/50\n",
            "\u001b[1m15/15\u001b[0m \u001b[32m━━━━━━━━━━━━━━━━━━━━\u001b[0m\u001b[37m\u001b[0m \u001b[1m0s\u001b[0m 6ms/step - accuracy: 0.8112 - loss: 0.5803 - val_accuracy: 0.8333 - val_loss: 0.4789\n",
            "Epoch 17/50\n",
            "\u001b[1m15/15\u001b[0m \u001b[32m━━━━━━━━━━━━━━━━━━━━\u001b[0m\u001b[37m\u001b[0m \u001b[1m0s\u001b[0m 6ms/step - accuracy: 0.8759 - loss: 0.5193 - val_accuracy: 0.8667 - val_loss: 0.4423\n",
            "Epoch 18/50\n",
            "\u001b[1m15/15\u001b[0m \u001b[32m━━━━━━━━━━━━━━━━━━━━\u001b[0m\u001b[37m\u001b[0m \u001b[1m0s\u001b[0m 6ms/step - accuracy: 0.7619 - loss: 0.5418 - val_accuracy: 0.9000 - val_loss: 0.4079\n",
            "Epoch 19/50\n",
            "\u001b[1m15/15\u001b[0m \u001b[32m━━━━━━━━━━━━━━━━━━━━\u001b[0m\u001b[37m\u001b[0m \u001b[1m0s\u001b[0m 6ms/step - accuracy: 0.8807 - loss: 0.4492 - val_accuracy: 0.9000 - val_loss: 0.3756\n",
            "Epoch 20/50\n",
            "\u001b[1m15/15\u001b[0m \u001b[32m━━━━━━━━━━━━━━━━━━━━\u001b[0m\u001b[37m\u001b[0m \u001b[1m0s\u001b[0m 6ms/step - accuracy: 0.8422 - loss: 0.4457 - val_accuracy: 0.9333 - val_loss: 0.3481\n",
            "Epoch 21/50\n",
            "\u001b[1m15/15\u001b[0m \u001b[32m━━━━━━━━━━━━━━━━━━━━\u001b[0m\u001b[37m\u001b[0m \u001b[1m0s\u001b[0m 6ms/step - accuracy: 0.9018 - loss: 0.3919 - val_accuracy: 0.9333 - val_loss: 0.3238\n",
            "Epoch 22/50\n",
            "\u001b[1m15/15\u001b[0m \u001b[32m━━━━━━━━━━━━━━━━━━━━\u001b[0m\u001b[37m\u001b[0m \u001b[1m0s\u001b[0m 6ms/step - accuracy: 0.8663 - loss: 0.3745 - val_accuracy: 0.9333 - val_loss: 0.3040\n",
            "Epoch 23/50\n",
            "\u001b[1m15/15\u001b[0m \u001b[32m━━━━━━━━━━━━━━━━━━━━\u001b[0m\u001b[37m\u001b[0m \u001b[1m0s\u001b[0m 9ms/step - accuracy: 0.8983 - loss: 0.3741 - val_accuracy: 0.9333 - val_loss: 0.2845\n",
            "Epoch 24/50\n",
            "\u001b[1m15/15\u001b[0m \u001b[32m━━━━━━━━━━━━━━━━━━━━\u001b[0m\u001b[37m\u001b[0m \u001b[1m0s\u001b[0m 6ms/step - accuracy: 0.9350 - loss: 0.3093 - val_accuracy: 0.9333 - val_loss: 0.2679\n",
            "Epoch 25/50\n",
            "\u001b[1m15/15\u001b[0m \u001b[32m━━━━━━━━━━━━━━━━━━━━\u001b[0m\u001b[37m\u001b[0m \u001b[1m0s\u001b[0m 9ms/step - accuracy: 0.9288 - loss: 0.3110 - val_accuracy: 0.9333 - val_loss: 0.2531\n",
            "Epoch 26/50\n",
            "\u001b[1m15/15\u001b[0m \u001b[32m━━━━━━━━━━━━━━━━━━━━\u001b[0m\u001b[37m\u001b[0m \u001b[1m0s\u001b[0m 6ms/step - accuracy: 0.9592 - loss: 0.2768 - val_accuracy: 0.9667 - val_loss: 0.2392\n",
            "Epoch 27/50\n",
            "\u001b[1m15/15\u001b[0m \u001b[32m━━━━━━━━━━━━━━━━━━━━\u001b[0m\u001b[37m\u001b[0m \u001b[1m0s\u001b[0m 6ms/step - accuracy: 0.9312 - loss: 0.3041 - val_accuracy: 0.9667 - val_loss: 0.2264\n",
            "Epoch 28/50\n",
            "\u001b[1m15/15\u001b[0m \u001b[32m━━━━━━━━━━━━━━━━━━━━\u001b[0m\u001b[37m\u001b[0m \u001b[1m0s\u001b[0m 6ms/step - accuracy: 0.9418 - loss: 0.2555 - val_accuracy: 0.9667 - val_loss: 0.2134\n",
            "Epoch 29/50\n",
            "\u001b[1m15/15\u001b[0m \u001b[32m━━━━━━━━━━━━━━━━━━━━\u001b[0m\u001b[37m\u001b[0m \u001b[1m0s\u001b[0m 6ms/step - accuracy: 0.9330 - loss: 0.2568 - val_accuracy: 0.9667 - val_loss: 0.2031\n",
            "Epoch 30/50\n",
            "\u001b[1m15/15\u001b[0m \u001b[32m━━━━━━━━━━━━━━━━━━━━\u001b[0m\u001b[37m\u001b[0m \u001b[1m0s\u001b[0m 7ms/step - accuracy: 0.9536 - loss: 0.2333 - val_accuracy: 0.9667 - val_loss: 0.1919\n",
            "Epoch 31/50\n",
            "\u001b[1m15/15\u001b[0m \u001b[32m━━━━━━━━━━━━━━━━━━━━\u001b[0m\u001b[37m\u001b[0m \u001b[1m0s\u001b[0m 6ms/step - accuracy: 0.9493 - loss: 0.2477 - val_accuracy: 0.9667 - val_loss: 0.1837\n",
            "Epoch 32/50\n",
            "\u001b[1m15/15\u001b[0m \u001b[32m━━━━━━━━━━━━━━━━━━━━\u001b[0m\u001b[37m\u001b[0m \u001b[1m0s\u001b[0m 9ms/step - accuracy: 0.9710 - loss: 0.1935 - val_accuracy: 0.9667 - val_loss: 0.1726\n",
            "Epoch 33/50\n",
            "\u001b[1m15/15\u001b[0m \u001b[32m━━━━━━━━━━━━━━━━━━━━\u001b[0m\u001b[37m\u001b[0m \u001b[1m0s\u001b[0m 6ms/step - accuracy: 0.9391 - loss: 0.2226 - val_accuracy: 0.9667 - val_loss: 0.1649\n",
            "Epoch 34/50\n",
            "\u001b[1m15/15\u001b[0m \u001b[32m━━━━━━━━━━━━━━━━━━━━\u001b[0m\u001b[37m\u001b[0m \u001b[1m0s\u001b[0m 9ms/step - accuracy: 0.9185 - loss: 0.2071 - val_accuracy: 0.9667 - val_loss: 0.1561\n",
            "Epoch 35/50\n",
            "\u001b[1m15/15\u001b[0m \u001b[32m━━━━━━━━━━━━━━━━━━━━\u001b[0m\u001b[37m\u001b[0m \u001b[1m0s\u001b[0m 6ms/step - accuracy: 0.9639 - loss: 0.2118 - val_accuracy: 0.9667 - val_loss: 0.1483\n",
            "Epoch 36/50\n",
            "\u001b[1m15/15\u001b[0m \u001b[32m━━━━━━━━━━━━━━━━━━━━\u001b[0m\u001b[37m\u001b[0m \u001b[1m0s\u001b[0m 6ms/step - accuracy: 0.9688 - loss: 0.1626 - val_accuracy: 0.9667 - val_loss: 0.1423\n",
            "Epoch 37/50\n",
            "\u001b[1m15/15\u001b[0m \u001b[32m━━━━━━━━━━━━━━━━━━━━\u001b[0m\u001b[37m\u001b[0m \u001b[1m0s\u001b[0m 7ms/step - accuracy: 0.9543 - loss: 0.1794 - val_accuracy: 1.0000 - val_loss: 0.1355\n",
            "Epoch 38/50\n",
            "\u001b[1m15/15\u001b[0m \u001b[32m━━━━━━━━━━━━━━━━━━━━\u001b[0m\u001b[37m\u001b[0m \u001b[1m0s\u001b[0m 6ms/step - accuracy: 0.9714 - loss: 0.1606 - val_accuracy: 1.0000 - val_loss: 0.1287\n",
            "Epoch 39/50\n",
            "\u001b[1m15/15\u001b[0m \u001b[32m━━━━━━━━━━━━━━━━━━━━\u001b[0m\u001b[37m\u001b[0m \u001b[1m0s\u001b[0m 6ms/step - accuracy: 0.9351 - loss: 0.1679 - val_accuracy: 1.0000 - val_loss: 0.1240\n",
            "Epoch 40/50\n",
            "\u001b[1m15/15\u001b[0m \u001b[32m━━━━━━━━━━━━━━━━━━━━\u001b[0m\u001b[37m\u001b[0m \u001b[1m0s\u001b[0m 6ms/step - accuracy: 0.9705 - loss: 0.1524 - val_accuracy: 1.0000 - val_loss: 0.1201\n",
            "Epoch 41/50\n",
            "\u001b[1m15/15\u001b[0m \u001b[32m━━━━━━━━━━━━━━━━━━━━\u001b[0m\u001b[37m\u001b[0m \u001b[1m0s\u001b[0m 6ms/step - accuracy: 0.9803 - loss: 0.1256 - val_accuracy: 1.0000 - val_loss: 0.1130\n",
            "Epoch 42/50\n",
            "\u001b[1m15/15\u001b[0m \u001b[32m━━━━━━━━━━━━━━━━━━━━\u001b[0m\u001b[37m\u001b[0m \u001b[1m0s\u001b[0m 6ms/step - accuracy: 0.9698 - loss: 0.1306 - val_accuracy: 1.0000 - val_loss: 0.1073\n",
            "Epoch 43/50\n",
            "\u001b[1m15/15\u001b[0m \u001b[32m━━━━━━━━━━━━━━━━━━━━\u001b[0m\u001b[37m\u001b[0m \u001b[1m0s\u001b[0m 6ms/step - accuracy: 0.9560 - loss: 0.1314 - val_accuracy: 1.0000 - val_loss: 0.1049\n",
            "Epoch 44/50\n",
            "\u001b[1m15/15\u001b[0m \u001b[32m━━━━━━━━━━━━━━━━━━━━\u001b[0m\u001b[37m\u001b[0m \u001b[1m0s\u001b[0m 6ms/step - accuracy: 0.9146 - loss: 0.1721 - val_accuracy: 1.0000 - val_loss: 0.1020\n",
            "Epoch 45/50\n",
            "\u001b[1m15/15\u001b[0m \u001b[32m━━━━━━━━━━━━━━━━━━━━\u001b[0m\u001b[37m\u001b[0m \u001b[1m0s\u001b[0m 7ms/step - accuracy: 0.9585 - loss: 0.1460 - val_accuracy: 1.0000 - val_loss: 0.0964\n",
            "Epoch 46/50\n",
            "\u001b[1m15/15\u001b[0m \u001b[32m━━━━━━━━━━━━━━━━━━━━\u001b[0m\u001b[37m\u001b[0m \u001b[1m0s\u001b[0m 6ms/step - accuracy: 0.9735 - loss: 0.1347 - val_accuracy: 1.0000 - val_loss: 0.0950\n",
            "Epoch 47/50\n",
            "\u001b[1m15/15\u001b[0m \u001b[32m━━━━━━━━━━━━━━━━━━━━\u001b[0m\u001b[37m\u001b[0m \u001b[1m0s\u001b[0m 6ms/step - accuracy: 0.9831 - loss: 0.1123 - val_accuracy: 1.0000 - val_loss: 0.0898\n",
            "Epoch 48/50\n",
            "\u001b[1m15/15\u001b[0m \u001b[32m━━━━━━━━━━━━━━━━━━━━\u001b[0m\u001b[37m\u001b[0m \u001b[1m0s\u001b[0m 6ms/step - accuracy: 0.9268 - loss: 0.1606 - val_accuracy: 1.0000 - val_loss: 0.0865\n",
            "Epoch 49/50\n",
            "\u001b[1m15/15\u001b[0m \u001b[32m━━━━━━━━━━━━━━━━━━━━\u001b[0m\u001b[37m\u001b[0m \u001b[1m0s\u001b[0m 9ms/step - accuracy: 0.9721 - loss: 0.1262 - val_accuracy: 1.0000 - val_loss: 0.0834\n",
            "Epoch 50/50\n",
            "\u001b[1m15/15\u001b[0m \u001b[32m━━━━━━━━━━━━━━━━━━━━\u001b[0m\u001b[37m\u001b[0m \u001b[1m0s\u001b[0m 9ms/step - accuracy: 0.9896 - loss: 0.0959 - val_accuracy: 1.0000 - val_loss: 0.0821\n"
          ]
        }
      ],
      "source": [
        "# Entrenar la red con nuestros datos\n",
        "# epochs=50 → le decimos que pase 50 veces por los datos\n",
        "# batch_size=8 → cada vez procesa 8 flores juntas\n",
        "\n",
        "history = model.fit(\n",
        "    X_train, y_train,\n",
        "    epochs=50,\n",
        "    batch_size=8,\n",
        "    validation_data=(X_test, y_test),  # para ver cómo se comporta en los datos nuevos\n",
        "    verbose=1  # mostrar el progreso en la pantalla\n",
        ")"
      ]
    },
    {
      "cell_type": "markdown",
      "metadata": {
        "id": "KRfh_Pg1BMY_"
      },
      "source": [
        "✅ compile → configuramos cómo aprende.\n",
        "✅ fit → entrenamos la red, es como pasarle un montón de ejemplos para que practique.\n",
        "✅ epochs → número de veces que repite todo el proceso (cuanto más, más aprende... pero cuidado con que no se sobreentrene).\n",
        "✅ batch_size → cuántos ejemplos ve de una vez (como el tamaño de \"bocados\")."
      ]
    },
    {
      "cell_type": "markdown",
      "metadata": {
        "id": "0lXiwZ_qBNqQ"
      },
      "source": []
    },
    {
      "cell_type": "markdown",
      "metadata": {
        "id": "TNde8kmIBSbQ"
      },
      "source": [
        "¿Cómo saber si la red aprendió?\n",
        "👉 Cuando entrenamos la red (fit), ella guarda en history:\n",
        "\n",
        "Cuánto acertó (accuracy) en cada ronda (epoch).\n",
        "\n",
        "Qué tanto se equivocó (loss).\n",
        "\n",
        "👉 Podemos graficarlo para ver si va aprendiendo."
      ]
    },
    {
      "cell_type": "code",
      "execution_count": null,
      "metadata": {
        "colab": {
          "base_uri": "https://localhost:8080/",
          "height": 451
        },
        "id": "D0M3_J1pBVXg",
        "outputId": "57526204-95f7-4182-eed2-3cb781fbb843"
      },
      "outputs": [
        {
          "data": {
            "image/png": "[encoded data removed]",
            "text/plain": [
              "<Figure size 640x480 with 1 Axes>"
            ]
          },
          "metadata": {},
          "output_type": "display_data"
        }
      ],
      "source": [
        "# Importamos librería para graficar\n",
        "import matplotlib.pyplot as plt\n",
        "\n",
        "# Graficamos la precisión (accuracy) en el entrenamiento y en la validación\n",
        "plt.plot(history.history['accuracy'], label='Precisión en entrenamiento')\n",
        "plt.plot(history.history['val_accuracy'], label='Precisión en validación')\n",
        "plt.xlabel('Época')\n",
        "plt.ylabel('Precisión')\n",
        "plt.legend()\n",
        "plt.grid()\n",
        "plt.show()\n"
      ]
    },
    {
      "cell_type": "markdown",
      "metadata": {
        "id": "kIQn-aZJBZIo"
      },
      "source": [
        "✅ Si las curvas suben → la red está aprendiendo.\n",
        "✅ Si \"accuracy\" se queda bajo → la red no aprende bien.\n",
        "✅ Si en entrenamiento acierta mucho pero en validación no → se sobreentrenó."
      ]
    },
    {
      "cell_type": "markdown",
      "metadata": {
        "id": "pMXKhcRzBeIP"
      },
      "source": []
    },
    {
      "cell_type": "markdown",
      "metadata": {
        "id": "sQi3Wfq-BfO4"
      },
      "source": [
        "¿Cómo usar la red para predecir flores nuevas?\n",
        "👉 Le damos las medidas de una flor, y ella nos dice qué flor cree que es."
      ]
    },
    {
      "cell_type": "code",
      "execution_count": null,
      "metadata": {
        "colab": {
          "base_uri": "https://localhost:8080/"
        },
        "id": "KL6yXcg_BhlY",
        "outputId": "67c1d962-7a46-40e4-fcee-4c87af903423"
      },
      "outputs": [
        {
          "name": "stdout",
          "output_type": "stream",
          "text": [
            "Datos de la flor (4 números): [ 0.31099753 -0.59237301  0.53540856  0.00087755]\n",
            "\u001b[1m1/1\u001b[0m \u001b[32m━━━━━━━━━━━━━━━━━━━━\u001b[0m\u001b[37m\u001b[0m \u001b[1m0s\u001b[0m 103ms/step\n",
            "Probabilidades por tipo de flor (Setosa=0, Versicolor=1, Virginica=2):\n",
            "[0.00568481 0.9170282  0.07728703]\n",
            "Clase predicha por la red: 1\n",
            "Clase real: 1\n"
          ]
        }
      ],
      "source": [
        "import numpy as np\n",
        "\n",
        "# Tomamos una flor del conjunto de prueba\n",
        "# X_test es un conjunto de flores que NO usamos para entrenar\n",
        "# Cada flor en X_test es un arreglo de 4 números (los 4 datos de la flor)\n",
        "# Aquí estamos tomando la primera flor de ese conjunto de prueba\n",
        "ejemplo = X_test[0]\n",
        "print(\"Datos de la flor (4 números):\", ejemplo)\n",
        "\n",
        "# reshape(1, -1) cambia la forma del arreglo\n",
        "# El modelo espera que le pasemos un conjunto de flores (aunque sea de 1 flor)\n",
        "# Si dejamos ejemplo = [4 números], el modelo no acepta\n",
        "# reshape(1, -1) convierte los 4 números en un arreglo de \"1 fila, 4 columnas\"\n",
        "# Es decir, se transforma en: [[n1, n2, n3, n4]]\n",
        "ejemplo = ejemplo.reshape(1, -1)\n",
        "\n",
        "# Ahora sí, el modelo puede hacer la predicción\n",
        "prediccion = model.predict(ejemplo)\n",
        "\n",
        "# El modelo devuelve una lista con 3 números\n",
        "# Cada número es la \"probabilidad\" que la flor sea cada tipo:\n",
        "# posición 0: Setosa (clase 0)\n",
        "# posición 1: Versicolor (clase 1)\n",
        "# posición 2: Virginica (clase 2)\n",
        "print(\"Probabilidades por tipo de flor (Setosa=0, Versicolor=1, Virginica=2):\")\n",
        "print(prediccion[0])\n",
        "\n",
        "# np.argmax(prediccion[0]) devuelve el índice del valor más alto\n",
        "# Es decir, cuál tipo de flor predice el modelo (0, 1 o 2)\n",
        "clase_predicha = np.argmax(prediccion[0])\n",
        "print(\"Clase predicha por la red:\", clase_predicha)\n",
        "\n",
        "# Por último, mostramos cuál era la clase real de esta flor (que conocemos)\n",
        "print(\"Clase real:\", y_test[0])\n"
      ]
    },
    {
      "cell_type": "markdown",
      "metadata": {
        "id": "_ycIcSFbDAP-"
      },
      "source": [
        "###Resumen:\n",
        "\n",
        "ejemplo = X_test[0] → estamos tomando una flor que el modelo nunca vio.\n",
        "\n",
        "reshape(1, -1) → el modelo espera recibir un conjunto de flores, aunque sea solo 1 flor. Reshape convierte la flor en el formato correcto.\n",
        "\n",
        "model.predict(ejemplo) → la red calcula la probabilidad de que sea cada tipo de flor.\n",
        "\n",
        "np.argmax(prediccion[0]) → vemos cuál es la clase con más probabilidad (la que la red predice).\n",
        "\n",
        "y_test[0] → comparamos con la respuesta real."
      ]
    },
    {
      "cell_type": "markdown",
      "metadata": {
        "id": "ekElBkU5DME2"
      },
      "source": []
    },
    {
      "cell_type": "markdown",
      "metadata": {
        "id": "ou0W4em0DM1J"
      },
      "source": [
        "Predicciones: Cada flor tiene 4 datos:\n",
        "\n",
        "Largo del sépalo (cm)\n",
        "\n",
        "Ancho del sépalo (cm)\n",
        "\n",
        "Largo del pétalo (cm)\n",
        "\n",
        "Ancho del pétalo (cm)"
      ]
    },
    {
      "cell_type": "code",
      "execution_count": null,
      "metadata": {
        "colab": {
          "base_uri": "https://localhost:8080/"
        },
        "id": "LSr4cob1DTRm",
        "outputId": "bb05e443-1d0e-432c-9b34-afb7bc727ac2"
      },
      "outputs": [
        {
          "name": "stdout",
          "output_type": "stream",
          "text": [
            "\u001b[1m1/1\u001b[0m \u001b[32m━━━━━━━━━━━━━━━━━━━━\u001b[0m\u001b[37m\u001b[0m \u001b[1m0s\u001b[0m 35ms/step\n",
            "Probabilidades por tipo de flor (Setosa=0, Versicolor=1, Virginica=2):\n",
            "[0.00568481 0.9170282  0.07728703]\n",
            "Clase predicha por la red: 1\n"
          ]
        }
      ],
      "source": [
        "import numpy as np\n",
        "\n",
        "# Escribe los 4 números de la flor que quieres predecir\n",
        "# Cambia estos valores para probar distintas flores\n",
        "mi_flor = np.array([[6.1, 2.8, 4.7, 1.2]])\n",
        "\n",
        "# Si normalizaste los datos en X_train con StandardScaler,\n",
        "# también debes normalizar aquí:\n",
        "mi_flor_normalizada = scaler.transform(mi_flor)\n",
        "\n",
        "# Ahora hacemos la predicción\n",
        "prediccion = model.predict(mi_flor_normalizada)\n",
        "\n",
        "# Mostramos las probabilidades por tipo de flor\n",
        "print(\"Probabilidades por tipo de flor (Setosa=0, Versicolor=1, Virginica=2):\")\n",
        "print(prediccion[0])\n",
        "\n",
        "# Clase predicha (índice de la mayor probabilidad)\n",
        "clase_predicha = np.argmax(prediccion[0])\n",
        "print(\"Clase predicha por la red:\", clase_predicha)\n"
      ]
    },
    {
      "cell_type": "markdown",
      "metadata": {
        "id": "K2wnjnfpDoIf"
      },
      "source": [
        "###EXplicación:\n",
        "\n",
        "mi_flor: EScriba los 4 números de la flor que quiere predecir.\n",
        "\n",
        "scaler.transform(): como los datos fueron normalizados para entrenar la red, es necesario normalizar los nuevos datos de igual forma.\n",
        "\n",
        "model.predict(): la red calcula las probabilidades.\n",
        "\n",
        "np.argmax(): muestra qué clase predice (0 = Setosa, 1 = Versicolor, 2 = Virginica)."
      ]
    },
    {
      "cell_type": "code",
      "execution_count": null,
      "metadata": {
        "id": "zuZoKcIEE4EB"
      },
      "outputs": [],
      "source": []
    }
  ],
  "metadata": {
    "colab": {
      "provenance": []
    },
    "kernelspec": {
      "display_name": ".venv",
      "language": "python",
      "name": "python3"
    },
    "language_info": {
      "codemirror_mode": {
        "name": "ipython",
        "version": 3
      },
      "file_extension": ".py",
      "mimetype": "text/x-python",
      "name": "python",
      "nbconvert_exporter": "python",
      "pygments_lexer": "ipython3",
      "version": "3.13.3"
    }
  },
  "nbformat": 4,
  "nbformat_minor": 0
}
