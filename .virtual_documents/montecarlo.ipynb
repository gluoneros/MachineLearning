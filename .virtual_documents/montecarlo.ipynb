


import random
import collections
import math
from types import SimpleNamespace
from typing import List, Tuple, Dict, Any, Optional
from itertools import product





#definicion de una baraja
PALOS = ['Espada', 'Trebol', 'Rombo', 'Corazon']
VALORES = ['As', '2', '3', '4', '5', '6', '7', '8', '9', '10', 'Jota', 'Reina', 'Rey']



#crea una baraja
def crear_baraja():
    baraja = []
    for palo in PALOS:
        for valor in VALORES:
            baraja.append((palo, valor))
    return baraja


#obtener mano
def obtener_mano(barajas, tamano_mano):
    mano = random.sample(barajas, tamano_mano)
    return mano



#resulatado mano
mano = obtener_mano(crear_baraja(), 5)
print(mano)


# Definicion de un juego con varias manos y el porcentaje de pares que se puede obtener
def valor_mano(tamano_mano, intentos):
    barajas = crear_baraja()
    manos = []
    for _ in range(intentos):
        mano = obtener_mano(barajas, tamano_mano)
        manos.append(mano)

    pares = 0
    for mano in manos:
        valores = []
        for carta in mano:
            valores.append(carta[1])

        counter = dict(collections.Counter(valores))
        for val in counter.values():
            if val == 2:
                pares += 1
                break


    porcentaje = pares / intentos * 100
    print(f"El porcentaje de manos que tienen un par es: {porcentaje}%")
    return manos



#implementacion
tamano_mano = int(input("Ingrese el tamaño de la mano: "))
intentos = int(input("Ingrese el número de intentos: "))
manos = valor_mano(tamano_mano, intentos)
print(manos)





#Se intenta calcular pi mediante una funcion que a partir de un numero de agujas las pone al azar en un rectangulo de [-1, 1] y
#cuenta cuantas quedan dentro de un circulo
def aventar_agujas(numero_agujas):
  adentro_circulo = 0
  for _ in range(numero_agujas):
    x = random.random()*random.choice([-1, 1])
    y = random.random()*random.choice([-1, 1])
    distancia_desde_centro = math.sqrt(x**2 + y**2)
    if distancia_desde_centro <= 1:
      adentro_circulo += 1
  return (4 * adentro_circulo) / numero_agujas



#calculo de
def esimacion(numero_agujas, numero_intentos):
  estimaciones = []
  for _ in range(numero_intentos):
    estimacion_pi = aventar_agujas(numero_agujas)
    estimaciones.append(estimacion_pi)
  media_estimaciones = sum(estimaciones) / len(estimaciones)
  sigma = math.sqrt(sum([(estimacion - media_estimaciones)**2 for estimacion in estimaciones]) / len(estimaciones))
  print(f"Estimacion = {round(media_estimaciones, 5)}, sigma = {round(sigma, 5)}, agujas = {numero_agujas}")

  return (media_estimaciones, sigma)




def estimar_pi(precision, numero_intentos):
  numero_agujas = 1000
  sigma = precision

  while sigma >= precision / 1.96:
    media, sigma = esimacion(numero_agujas, numero_intentos)
    numero_agujas *= 2
  return media



estimar_pi(0.01, 1000)
